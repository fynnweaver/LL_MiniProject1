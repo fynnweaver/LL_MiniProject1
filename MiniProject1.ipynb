{
 "cells": [
  {
   "cell_type": "markdown",
   "id": "40ba4622-e739-4cb9-97c1-6d5cae4aba27",
   "metadata": {},
   "source": [
    "## Miniproject 1\n",
    "\n",
    "#### Part 1: Transport of London\n",
    "\n",
    "Figure out on your own how to analyze and look through the API data.  \n",
    "Use the questions in the Mini-Presentation as an inspiration - focus on a larger use case and scenario  \n",
    "\n",
    "5 minute presentation - make a story\n",
    "- Present as if to client or teammate (assume base knowledge)\n",
    "- Recommends have no code (just slides): going line by line is boring\n",
    "- Motivation, Task, Modeling, Results, Conclusions\n",
    "    - draw.io is a good one for quick schematics n models\n",
    "    - python plotting for data visualization and results (week 3)"
   ]
  },
  {
   "cell_type": "markdown",
   "id": "ddd332e2-a48e-4b5c-9ea0-a342fd902d23",
   "metadata": {},
   "source": [
    "##### *Tips*\n",
    "Make functions!\n",
    "- If you can give a short name to block of code\n",
    "- If you're writing the same code repeated\n",
    "\n",
    "Save GET requests and only fetch when needed!\n",
    "- lowercase json module will turn into a string can save into file and object\n",
    "\n",
    "Keep projects into Github for traffic"
   ]
  },
  {
   "cell_type": "code",
   "execution_count": 4,
   "id": "8fc02b0b-4723-42c0-85e6-38c77f4b5a67",
   "metadata": {},
   "outputs": [
    {
     "name": "stdout",
     "output_type": "stream",
     "text": [
      "test\n"
     ]
    }
   ],
   "source": [
    "#import necessary packages\n",
    "import requests as re\n",
    "from IPython.display import JSON\n",
    "\n",
    "#import api key\n",
    "from api_keys import transport_id\n",
    "print(transport_id)\n",
    "\n",
    "# endpoint for the transport API\n",
    "root_endpoint = \"https://api.tfl.gov.uk/\""
   ]
  },
  {
   "cell_type": "code",
   "execution_count": 2,
   "id": "8cdd0b7c-992d-4267-aceb-04532bea28d3",
   "metadata": {},
   "outputs": [],
   "source": [
    "#Let's test it using AirQuality\n",
    "\n"
   ]
  },
  {
   "cell_type": "code",
   "execution_count": null,
   "id": "3667e827-520c-43a2-8a50-699f4bab5067",
   "metadata": {},
   "outputs": [],
   "source": []
  }
 ],
 "metadata": {
  "kernelspec": {
   "display_name": "Python 3 (ipykernel)",
   "language": "python",
   "name": "python3"
  },
  "language_info": {
   "codemirror_mode": {
    "name": "ipython",
    "version": 3
   },
   "file_extension": ".py",
   "mimetype": "text/x-python",
   "name": "python",
   "nbconvert_exporter": "python",
   "pygments_lexer": "ipython3",
   "version": "3.9.7"
  }
 },
 "nbformat": 4,
 "nbformat_minor": 5
}
