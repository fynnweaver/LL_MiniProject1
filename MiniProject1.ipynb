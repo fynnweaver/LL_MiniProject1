{
 "cells": [
  {
   "cell_type": "markdown",
   "id": "40ba4622-e739-4cb9-97c1-6d5cae4aba27",
   "metadata": {},
   "source": [
    "## Miniproject 1\n",
    "\n",
    "#### Part 1: Transport of London\n",
    "\n",
    "Figure out on your own how to analyze and look through the API data.  \n",
    "Use the questions in the Mini-Presentation as an inspiration - focus on a larger use case and scenario  \n",
    "\n",
    "5 minute presentation - make a story\n",
    "- Present as if to client or teammate (assume base knowledge)\n",
    "- Recommends have no code (just slides): going line by line is boring\n",
    "- Motivation, Task, Modeling, Results, Conclusions\n",
    "    - draw.io is a good one for quick schematics n models\n",
    "    - python plotting for data visualization and results (week 3)"
   ]
  },
  {
   "cell_type": "markdown",
   "id": "ddd332e2-a48e-4b5c-9ea0-a342fd902d23",
   "metadata": {},
   "source": [
    "##### *Tips*\n",
    "Make functions!\n",
    "- If you can give a short name to block of code\n",
    "- If you're writing the same code repeated\n",
    "\n",
    "Save GET requests and only fetch when needed!\n",
    "- lowercase json module will turn into a string can save into file and object\n",
    "\n",
    "Keep projects into Github for traffic\n",
    "\n",
    "##"
   ]
  },
  {
   "cell_type": "markdown",
   "id": "ab3b4a76-1233-485e-a081-16290b8c41d2",
   "metadata": {},
   "source": [
    "## Should I take the bus to work?\n",
    "\n",
    "Inputs:\n",
    "- Bus duration x\n",
    "- AirQuality x\n",
    "- Disruptions\n",
    "    - bus x\n",
    "    - road\n",
    "    \n",
    "### Set up"
   ]
  },
  {
   "cell_type": "code",
   "execution_count": 1,
   "id": "8fc02b0b-4723-42c0-85e6-38c77f4b5a67",
   "metadata": {},
   "outputs": [
    {
     "name": "stdout",
     "output_type": "stream",
     "text": [
      "09e7db574b42473e91fc6d50c49fb8aa 0d4fa2721cb04275a8ee4c6b89a571ba\n"
     ]
    }
   ],
   "source": [
    "#import necessary packages\n",
    "import requests as re\n",
    "from IPython.display import JSON\n",
    "\n",
    "#import api key\n",
    "from api_keys import transport_primary, transport_secondary\n",
    "print(transport_primary, transport_secondary) #make sure it's working\n",
    "\n",
    "# endpoint for the transport API\n",
    "root_endpoint = \"https://api.tfl.gov.uk/\""
   ]
  },
  {
   "cell_type": "markdown",
   "id": "b5650bb6-30cf-4075-aa0d-c3fbcac43cbe",
   "metadata": {},
   "source": [
    "### AirQuality"
   ]
  },
  {
   "cell_type": "code",
   "execution_count": 2,
   "id": "8cdd0b7c-992d-4267-aceb-04532bea28d3",
   "metadata": {},
   "outputs": [
    {
     "data": {
      "text/plain": [
       "200"
      ]
     },
     "execution_count": 2,
     "metadata": {},
     "output_type": "execute_result"
    }
   ],
   "source": [
    "#Let's test it using AirQuality\n",
    "search_term = 'AirQuality'\n",
    "\n",
    "response = re.get(root_endpoint + search_term, params={'app_key':transport_primary})\n",
    "\n",
    "#Let's make sure it worked\n",
    "response.status_code"
   ]
  },
  {
   "cell_type": "code",
   "execution_count": 3,
   "id": "3121f4bc-08f8-4f76-87ef-7c21cbb0f30a",
   "metadata": {},
   "outputs": [
    {
     "data": {
      "application/json": {
       "$id": "1",
       "$type": "Tfl.Api.Presentation.Entities.LondonAirForecast, Tfl.Api.Presentation.Entities",
       "currentForecast": [
        {
         "$id": "2",
         "$type": "Tfl.Api.Presentation.Entities.CurrentForecast, Tfl.Api.Presentation.Entities",
         "forecastBand": "Moderate",
         "forecastID": "34838",
         "forecastSummary": "Moderate air pollution forecast valid from Friday 14 January to end of Friday 14 January GMT",
         "forecastText": "Fine and settled, with some sunshine by day but with overnight frosts and stubborn fog patches readily developing, and perhaps staying for lengthy periods in some areas and suppressing temperatures. Very little wind expected.&lt;br/&gt; &lt;br/&gt;These settled, still and foggy conditions could lead to a build up of local pollutants with Moderate levels of Particulates and possibly Nitrogen Dioxide being reached at some busy roadside and industrial locations. &lt;br/&gt;&lt;br/&gt;Overall, air pollution is expected to remain &#39;Low&#39; throughout the forecast period for the following pollutants:&lt;br/&gt;&lt;br/&gt;Ozone&lt;br/&gt;Sulphur Dioxide&lt;br/&gt;&lt;br/&gt;&lt;br/&gt;",
         "forecastType": "Current",
         "nO2Band": "Moderate",
         "o3Band": "Low",
         "pM10Band": "Moderate",
         "pM25Band": "Moderate",
         "sO2Band": "Low"
        },
        {
         "$id": "3",
         "$type": "Tfl.Api.Presentation.Entities.CurrentForecast, Tfl.Api.Presentation.Entities",
         "forecastBand": "Low",
         "forecastID": "34839",
         "forecastSummary": "Low air pollution forecast valid from Saturday 15 January to end of Saturday 15 January GMT",
         "forecastText": "Saturday is expected to be dry, cold and cloudy. With winds picking up over the weekend, dispersion of locally emitted pollution should improve when compared with recent days.  Back trajectories are currently indicating little import, but instead a recirculation of air around the South East of England.&lt;br/&gt;&lt;br/&gt;Overall, air pollution is expected to remain &#39;Low&#39; throughout the forecast period for the following pollutants:&lt;br/&gt;&lt;br/&gt;Ozone&lt;br/&gt;Sulphur Dioxide&lt;br/&gt;Nitrogen Dioxide&lt;br/&gt;PM10 Particulates&lt;br/&gt;PM2.5 Particulates&lt;br/&gt;&lt;br/&gt;&lt;br/&gt;",
         "forecastType": "Future",
         "nO2Band": "Low",
         "o3Band": "Low",
         "pM10Band": "Low",
         "pM25Band": "Low",
         "sO2Band": "Low"
        }
       ],
       "disclaimerText": "This forecast is intended to provide information on expected pollution levels in areas of significant public exposure. It may not apply in very specific locations close to unusually strong or short-lived local sources of pollution.",
       "forecastURL": "http://londonair.org.uk/forecast",
       "updateFrequency": "1",
       "updatePeriod": "hourly"
      },
      "text/plain": [
       "<IPython.core.display.JSON object>"
      ]
     },
     "execution_count": 3,
     "metadata": {
      "application/json": {
       "expanded": false,
       "root": "root"
      }
     },
     "output_type": "execute_result"
    }
   ],
   "source": [
    "#Ok now let's see what we're working with\n",
    "results = response.json()\n",
    "\n",
    "JSON(results)"
   ]
  },
  {
   "cell_type": "code",
   "execution_count": 4,
   "id": "5a561e2b-8de9-4b53-82d9-46a7014298b0",
   "metadata": {},
   "outputs": [
    {
     "name": "stdout",
     "output_type": "stream",
     "text": [
      "Tomorrow the air quality will be Low\n"
     ]
    }
   ],
   "source": [
    "#Print the AirQuality predictions for tomorrow\n",
    "future_results = results['currentForecast'][1]\n",
    "\n",
    "print(f\"Tomorrow the air quality will be {future_results['forecastBand']}\")"
   ]
  },
  {
   "cell_type": "code",
   "execution_count": 5,
   "id": "b9e06d17-3cc3-4ed3-80ee-3edd68dae1ed",
   "metadata": {},
   "outputs": [],
   "source": [
    "#This is a function that will intake string of API info we're looking for\n",
    "#and a dictionary of the parameters to define\n",
    "def TFL_API(search_term, parameters = {'app_key':transport_primary}):\n",
    "    \n",
    "    endpoint = root_endpoint + search_term\n",
    "    \n",
    "    response = re.get(root_endpoint + search_term, \n",
    "    params=parameters)\n",
    "    \n",
    "    status_code, results = response.status_code, response.json()\n",
    "    \n",
    "    #Let's make sure it worked\n",
    "    if status_code != 200:\n",
    "        print('Something went wrong!')\n",
    "        print(status_code)\n",
    "        \n",
    "    return results"
   ]
  },
  {
   "cell_type": "markdown",
   "id": "8186ea3e-fd6e-4a96-886f-5efbb3a79dc0",
   "metadata": {},
   "source": [
    "### Bus Duration"
   ]
  },
  {
   "cell_type": "code",
   "execution_count": 6,
   "id": "9bbc2330-da6b-4e80-a06a-8eac87790119",
   "metadata": {},
   "outputs": [],
   "source": [
    "#Let's get the bus duration input\n",
    "journey_test = TFL_API('Journey/JourneyResults/WC2N_4BF/to/W1C_1DH')"
   ]
  },
  {
   "cell_type": "code",
   "execution_count": 7,
   "id": "c965a243-65c6-482a-95a9-0d5ef17128ef",
   "metadata": {},
   "outputs": [],
   "source": [
    "#taking a look at our data so we can get plan below\n",
    "#JSON(journey_test)"
   ]
  },
  {
   "cell_type": "code",
   "execution_count": 64,
   "id": "277f3348-40d4-4211-b732-5abfd2aaab67",
   "metadata": {},
   "outputs": [],
   "source": [
    "#Let's make it a function so we can enter whatever addresses we would like and\n",
    "#get back the fastest bus route assuming we want to minimize walking\n",
    "\n",
    "def journey_status(start, end, mode = 'tube'):\n",
    "    \n",
    "    #define empty objects\n",
    "    duration = []\n",
    "    route_disruptions = []\n",
    "    departing_station = []\n",
    "    \n",
    "    #define url\n",
    "    journey_url = 'Journey/JourneyResults/' + start + '/to/' + end\n",
    "    journey = TFL_API(journey_url, parameters={'journeyPreference': 'leasttime',\n",
    "                                               'mode': mode,\n",
    "                                               'app_key': transport_primary})\n",
    "    \n",
    "    \n",
    "    #create and store durations\n",
    "    for options in journey['journeys']:\n",
    "        duration.append(options['duration'])\n",
    "    \n",
    "    #save the shortest duration\n",
    "    fastest_route = min(duration)\n",
    "    \n",
    "    #now let's get the status of that route\n",
    "    for options in journey['journeys']:\n",
    "        \n",
    "        #only the fastest route\n",
    "        if options['duration'] == fastest_route:\n",
    "            \n",
    "            #only the status for the parts of the route that involve a bus\n",
    "            for legs in options['legs']:\n",
    "                \n",
    "                #if it is a bus mode, add the disruption status\n",
    "                if legs['mode']['id'] == mode:\n",
    "                    route_disruptions.append(legs['isDisrupted'])\n",
    "                    \n",
    "                    try:\n",
    "                        #Find and save the Naptan station id\n",
    "                        station = legs['departurePoint']['naptanId']\n",
    "                    except:\n",
    "                        station = \"No station id available\"\n",
    "                    \n",
    "    \n",
    "    #sum disruptions of all legs and save as boolean\n",
    "    route_disrupted =  bool(sum(route_disruptions))\n",
    "    \n",
    "    return station, fastest_route, route_disrupted\n"
   ]
  },
  {
   "cell_type": "code",
   "execution_count": 65,
   "id": "91d46ddb-0e2d-47de-88c8-96b62ddcb83c",
   "metadata": {},
   "outputs": [],
   "source": [
    "#Test out the function. It works!\n",
    "station, fastest_bus, route_disrupted = journey_status('WC2N_4BF', 'HA1 4DZ', 'cycle')"
   ]
  },
  {
   "cell_type": "code",
   "execution_count": 66,
   "id": "0ee4c8e1-4d0d-4a61-bfa6-1cc449596d6d",
   "metadata": {},
   "outputs": [
    {
     "name": "stdout",
     "output_type": "stream",
     "text": [
      "92\n",
      "False\n",
      "No station id available\n"
     ]
    },
    {
     "data": {
      "application/json": {
       "$type": "Tfl.Api.Presentation.Entities.JourneyPlanner.ItineraryResult, Tfl.Api.Presentation.Entities",
       "journeyVector": {
        "$type": "Tfl.Api.Presentation.Entities.JourneyPlanner.JourneyVector, Tfl.Api.Presentation.Entities",
        "from": "WC2N_4BF",
        "to": "W1C_1DH",
        "uri": "/journey/journeyresults/wc2n_4bf/to/w1c_1dh?app_key=09e7db574b42473e91fc6d50c49fb8aa",
        "via": ""
       },
       "journeys": [
        {
         "$type": "Tfl.Api.Presentation.Entities.JourneyPlanner.Journey, Tfl.Api.Presentation.Entities",
         "arrivalDateTime": "2022-01-14T05:47:00",
         "duration": 15,
         "fare": {
          "$type": "Tfl.Api.Presentation.Entities.JourneyPlanner.JourneyFare, Tfl.Api.Presentation.Entities",
          "caveats": [
           {
            "$type": "Tfl.Api.Presentation.Entities.JourneyPlanner.FareCaveat, Tfl.Api.Presentation.Entities",
            "text": "The price shown is a single adult pay as you go fare.",
            "type": "generic"
           }
          ],
          "fares": [
           {
            "$type": "Tfl.Api.Presentation.Entities.JourneyPlanner.Fare, Tfl.Api.Presentation.Entities",
            "cost": 155,
            "highZone": 0,
            "isHopperFare": false,
            "lowZone": 0,
            "offPeak": 0,
            "peak": 0,
            "taps": [
             {
              "$type": "Tfl.Api.Presentation.Entities.JourneyPlanner.FareTap, Tfl.Api.Presentation.Entities",
              "atcoCode": "490G000804",
              "tapDetails": {
               "$type": "Tfl.Api.Presentation.Entities.JourneyPlanner.FareTapDetails, Tfl.Api.Presentation.Entities",
               "busRouteId": "12",
               "hostDeviceType": "ETM",
               "modeType": "Bus",
               "nationalLocationCode": 0,
               "tapTimestamp": "2022-01-14T05:39:00+00:00",
               "validationType": "Entry"
              }
             }
            ]
           }
          ],
          "totalCost": 155
         },
         "legs": [
          {
           "$type": "Tfl.Api.Presentation.Entities.JourneyPlanner.Leg, Tfl.Api.Presentation.Entities",
           "arrivalPoint": {
            "$type": "Tfl.Api.Presentation.Entities.StopPoint, Tfl.Api.Presentation.Entities",
            "additionalProperties": [],
            "commonName": "Northumberland Avenue / Trafalgar Square",
            "icsCode": "1013767",
            "lat": 51.50753172378,
            "lon": -0.12990929012,
            "naptanId": "490G000804",
            "placeType": "StopPoint",
            "platformName": "",
            "stopLetter": "T"
           },
           "arrivalTime": "2022-01-14T05:39:00",
           "departurePoint": {
            "$type": "Tfl.Api.Presentation.Entities.StopPoint, Tfl.Api.Presentation.Entities",
            "additionalProperties": [],
            "commonName": "WC2N 4BF",
            "icsCode": "99999997",
            "lat": 51.50978057722,
            "lon": -0.12713676373000002,
            "placeType": "StopPoint",
            "platformName": ""
           },
           "departureTime": "2022-01-14T05:32:00",
           "disruptions": [],
           "distance": 455,
           "duration": 7,
           "hasFixedLocations": true,
           "instruction": {
            "$type": "Tfl.Api.Presentation.Entities.Instruction, Tfl.Api.Presentation.Entities",
            "detailed": "Walk to Trafalgar Square",
            "steps": [
             {
              "$type": "Tfl.Api.Presentation.Entities.InstructionStep, Tfl.Api.Presentation.Entities",
              "cumulativeDistance": 35,
              "cumulativeTravelTime": 31,
              "description": "St Martin's Lane for 35 metres",
              "descriptionHeading": "Continue along ",
              "distance": 35,
              "latitude": 51.509786114090005,
              "longitude": -0.12692037214000002,
              "pathAttribute": {
               "$type": "Tfl.Api.Presentation.Entities.PathAttribute, Tfl.Api.Presentation.Entities"
              },
              "skyDirection": 537,
              "skyDirectionDescription": "North",
              "streetName": "St Martin's Lane",
              "trackType": "None",
              "turnDirection": "STRAIGHT"
             },
             {
              "$type": "Tfl.Api.Presentation.Entities.InstructionStep, Tfl.Api.Presentation.Entities",
              "cumulativeDistance": 185,
              "cumulativeTravelTime": 165,
              "description": "on to St Martin's Place, continue for 150 metres",
              "descriptionHeading": "Turn right",
              "distance": 150,
              "latitude": 51.50947181166,
              "longitude": -0.12694767389,
              "pathAttribute": {
               "$type": "Tfl.Api.Presentation.Entities.PathAttribute, Tfl.Api.Presentation.Entities"
              },
              "skyDirection": 280,
              "skyDirectionDescription": "North",
              "streetName": "St Martin's Place",
              "trackType": "None",
              "turnDirection": "RIGHT"
             },
             {
              "$type": "Tfl.Api.Presentation.Entities.InstructionStep, Tfl.Api.Presentation.Entities",
              "cumulativeDistance": 222,
              "cumulativeTravelTime": 198,
              "description": "on to North Terrace, continue for 37 metres",
              "descriptionHeading": "Turn right",
              "distance": 37,
              "latitude": 51.50856807034,
              "longitude": -0.1272297185,
              "pathAttribute": {
               "$type": "Tfl.Api.Presentation.Entities.PathAttribute, Tfl.Api.Presentation.Entities"
              },
              "skyDirection": 264,
              "skyDirectionDescription": "North",
              "streetName": "North Terrace",
              "trackType": "None",
              "turnDirection": "RIGHT"
             },
             {
              "$type": "Tfl.Api.Presentation.Entities.InstructionStep, Tfl.Api.Presentation.Entities",
              "cumulativeDistance": 322,
              "cumulativeTravelTime": 288,
              "description": "on to Trafalgar Square, continue for 100 metres",
              "descriptionHeading": "Continue along ",
              "distance": 100,
              "latitude": 51.50854063093,
              "longitude": -0.12776403492000002,
              "pathAttribute": {
               "$type": "Tfl.Api.Presentation.Entities.PathAttribute, Tfl.Api.Presentation.Entities"
              },
              "skyDirection": 256,
              "skyDirectionDescription": "North",
              "streetName": "Trafalgar Square",
              "trackType": "None",
              "turnDirection": "STRAIGHT"
             },
             {
              "$type": "Tfl.Api.Presentation.Entities.InstructionStep, Tfl.Api.Presentation.Entities",
              "cumulativeDistance": 371,
              "cumulativeTravelTime": 333,
              "description": "on to Pall Mall East, continue for 49 metres",
              "descriptionHeading": "Continue along ",
              "distance": 49,
              "latitude": 51.50830184962,
              "longitude": -0.12914282075,
              "pathAttribute": {
               "$type": "Tfl.Api.Presentation.Entities.PathAttribute, Tfl.Api.Presentation.Entities"
              },
              "skyDirection": 249,
              "skyDirectionDescription": "North",
              "streetName": "Pall Mall East",
              "trackType": "None",
              "turnDirection": "STRAIGHT"
             },
             {
              "$type": "Tfl.Api.Presentation.Entities.InstructionStep, Tfl.Api.Presentation.Entities",
              "cumulativeDistance": 437,
              "cumulativeTravelTime": 392,
              "description": "for 66 metres",
              "descriptionHeading": "Turn left",
              "distance": 66,
              "latitude": 51.50815065507,
              "longitude": -0.12981189479,
              "pathAttribute": {
               "$type": "Tfl.Api.Presentation.Entities.PathAttribute, Tfl.Api.Presentation.Entities"
              },
              "skyDirection": 528,
              "skyDirectionDescription": "North",
              "streetName": "",
              "trackType": "None",
              "turnDirection": "LEFT"
             },
             {
              "$type": "Tfl.Api.Presentation.Entities.InstructionStep, Tfl.Api.Presentation.Entities",
              "cumulativeDistance": 455,
              "cumulativeTravelTime": 408,
              "description": "on to Cockspur Street, continue for 18 metres",
              "descriptionHeading": "Turn right",
              "distance": 18,
              "latitude": 51.50757229389,
              "longitude": -0.12963383392,
              "pathAttribute": {
               "$type": "Tfl.Api.Presentation.Entities.PathAttribute, Tfl.Api.Presentation.Entities"
              },
              "skyDirection": 279,
              "skyDirectionDescription": "North",
              "streetName": "Cockspur Street",
              "trackType": "None",
              "turnDirection": "RIGHT"
             }
            ],
            "summary": "Walk to Trafalgar Square"
           },
           "isDisrupted": false,
           "mode": {
            "$type": "Tfl.Api.Presentation.Entities.Identifier, Tfl.Api.Presentation.Entities",
            "id": "walking",
            "name": "walking",
            "routeType": "Unknown",
            "status": "Unknown",
            "type": "Mode"
           },
           "obstacles": [],
           "path": {
            "$type": "Tfl.Api.Presentation.Entities.JourneyPlanner.Path, Tfl.Api.Presentation.Entities",
            "elevation": [],
            "lineString": "[[51.50978057722, -0.12713676373],[51.50978611409, -0.12692037214],[51.50971422097, -0.12692332081],[51.50947181166, -0.12694767389],[51.50954345666, -0.12749234934],[51.50917132523, -0.12727703483],[51.50911717542, -0.12726484454],[51.50880195303, -0.12723453848],[51.50856807034, -0.1272297185],[51.50854063093, -0.12776403492],[51.50846779618, -0.12827138999],[51.50840371611, -0.12876397417],[51.50830184962, -0.12914282075],[51.50815065507, -0.12981189479],[51.50757229389, -0.12963383392],[51.50760338743, -0.12989194552]]",
            "stopPoints": []
           },
           "plannedWorks": [],
           "routeOptions": [
            {
             "$type": "Tfl.Api.Presentation.Entities.JourneyPlanner.RouteOption, Tfl.Api.Presentation.Entities",
             "directions": [
              ""
             ],
             "name": ""
            }
           ]
          },
          {
           "$type": "Tfl.Api.Presentation.Entities.JourneyPlanner.Leg, Tfl.Api.Presentation.Entities",
           "arrivalPoint": {
            "$type": "Tfl.Api.Presentation.Entities.StopPoint, Tfl.Api.Presentation.Entities",
            "additionalProperties": [],
            "commonName": "Margaret Street / Oxford Circus",
            "icsCode": "1010695",
            "lat": 51.51607415062,
            "lon": -0.14232928989,
            "naptanId": "490G000693",
            "placeType": "StopPoint",
            "platformName": "RE",
            "stopLetter": "RE"
           },
           "arrivalTime": "2022-01-14T05:45:00",
           "departurePoint": {
            "$type": "Tfl.Api.Presentation.Entities.StopPoint, Tfl.Api.Presentation.Entities",
            "additionalProperties": [],
            "commonName": "Northumberland Avenue / Trafalgar Square",
            "icsCode": "1013767",
            "lat": 51.50753172378,
            "lon": -0.12990929012,
            "naptanId": "490G000804",
            "placeType": "StopPoint",
            "platformName": "",
            "stopLetter": "T"
           },
           "departureTime": "2022-01-14T05:39:00",
           "disruptions": [],
           "duration": 6,
           "hasFixedLocations": true,
           "instruction": {
            "$type": "Tfl.Api.Presentation.Entities.Instruction, Tfl.Api.Presentation.Entities",
            "detailed": "12 bus towards Oxford Circus",
            "steps": [],
            "summary": "12 bus to Margaret Street /Oxford Circus"
           },
           "isDisrupted": false,
           "mode": {
            "$type": "Tfl.Api.Presentation.Entities.Identifier, Tfl.Api.Presentation.Entities",
            "id": "bus",
            "name": "bus",
            "routeType": "Unknown",
            "status": "Unknown",
            "type": "Mode"
           },
           "obstacles": [],
           "path": {
            "$type": "Tfl.Api.Presentation.Entities.JourneyPlanner.Path, Tfl.Api.Presentation.Entities",
            "elevation": [],
            "lineString": "[[51.50760100606, -0.12988929424],[51.50761421105, -0.13000678455],[51.5076344804, -0.13015005748],[51.50769433368, -0.13108427662],[51.50745417877, -0.13181461495],[51.50723891547, -0.13241423636],[51.50758843409, -0.13290430347],[51.50795317356, -0.13322083138],[51.50856444835, -0.1337722686],[51.50897767249, -0.13411836947],[51.50897767249, -0.13411836947],[51.50922065402, -0.13432188485],[51.50961303699, -0.1346805386],[51.50974045379, -0.13477621091],[51.50984943911, -0.13484381454],[51.50994989575, -0.13494058881],[51.51000398832, -0.1355148206],[51.50995281541, -0.13568984187],[51.50986243076, -0.13622673771],[51.50990334777, -0.1371041381],[51.50995392223, -0.1373016318],[51.50995392223, -0.1373016318],[51.51005674077, -0.13770314438],[51.51037143411, -0.13826675679],[51.51069031179, -0.13852757046],[51.51103706317, -0.13884489705],[51.51127414526, -0.13905140592],[51.51129219914, -0.13906848207],[51.51129219914, -0.13906848207],[51.5114932536, -0.13925864926],[51.51160269339, -0.13935507057],[51.51208629904, -0.13979653938],[51.51252405606, -0.14018223742],[51.51307125061, -0.14066437027],[51.51314428585, -0.14073345641],[51.51370046492, -0.14121523646],[51.51401057778, -0.14149085808],[51.5143829124, -0.14172071403],[51.51451340728, -0.14176905969],[51.51451340728, -0.14176905969],[51.5146633259, -0.1418246018],[51.51526885801, -0.14201614924],[51.51555825796, -0.14211967504],[51.51591033665, -0.14220623895],[51.51608230143, -0.14228135594]]",
            "stopPoints": [
             {
              "$type": "Tfl.Api.Presentation.Entities.Identifier, Tfl.Api.Presentation.Entities",
              "id": "490G00011516",
              "name": "Regent Street / St James's",
              "routeType": "Unknown",
              "status": "Unknown",
              "type": "StopPoint",
              "uri": "/StopPoint/490G00011516"
             },
             {
              "$type": "Tfl.Api.Presentation.Entities.Identifier, Tfl.Api.Presentation.Entities",
              "id": "490G00179D",
              "name": "Piccadilly Circus",
              "routeType": "Unknown",
              "status": "Unknown",
              "type": "StopPoint",
              "uri": "/StopPoint/490G00179D"
             },
             {
              "$type": "Tfl.Api.Presentation.Entities.Identifier, Tfl.Api.Presentation.Entities",
              "id": "490G000041",
              "name": "Beak Street / Hamleys Toy Store",
              "routeType": "Unknown",
              "status": "Unknown",
              "type": "StopPoint",
              "uri": "/StopPoint/490G000041"
             },
             {
              "$type": "Tfl.Api.Presentation.Entities.Identifier, Tfl.Api.Presentation.Entities",
              "id": "490G00173RG",
              "name": "Oxford Circus Station",
              "routeType": "Unknown",
              "status": "Unknown",
              "type": "StopPoint",
              "uri": "/StopPoint/490G00173RG"
             },
             {
              "$type": "Tfl.Api.Presentation.Entities.Identifier, Tfl.Api.Presentation.Entities",
              "id": "490G000693",
              "name": "Margaret Street / Oxford Circus",
              "routeType": "Unknown",
              "status": "Unknown",
              "type": "StopPoint",
              "uri": "/StopPoint/490G000693"
             }
            ]
           },
           "plannedWorks": [],
           "routeOptions": [
            {
             "$type": "Tfl.Api.Presentation.Entities.JourneyPlanner.RouteOption, Tfl.Api.Presentation.Entities",
             "directions": [
              "Oxford Circus"
             ],
             "lineIdentifier": {
              "$type": "Tfl.Api.Presentation.Entities.Identifier, Tfl.Api.Presentation.Entities",
              "crowding": {
               "$type": "Tfl.Api.Presentation.Entities.Crowding, Tfl.Api.Presentation.Entities"
              },
              "id": "12",
              "name": "12",
              "routeType": "Unknown",
              "status": "Unknown",
              "type": "Line",
              "uri": "/Line/12"
             },
             "name": "12"
            }
           ]
          },
          {
           "$type": "Tfl.Api.Presentation.Entities.JourneyPlanner.Leg, Tfl.Api.Presentation.Entities",
           "arrivalPoint": {
            "$type": "Tfl.Api.Presentation.Entities.Place, Tfl.Api.Presentation.Entities",
            "commonName": "W1C 1DH",
            "lat": 51.51537469218,
            "lon": -0.14302073196999998,
            "placeType": "StopPoint"
           },
           "arrivalTime": "2022-01-14T05:47:00",
           "departurePoint": {
            "$type": "Tfl.Api.Presentation.Entities.StopPoint, Tfl.Api.Presentation.Entities",
            "additionalProperties": [],
            "commonName": "Margaret Street / Oxford Circus",
            "icsCode": "1010695",
            "lat": 51.51607415062,
            "lon": -0.14232928989,
            "naptanId": "490G000693",
            "placeType": "StopPoint",
            "platformName": "RE",
            "stopLetter": "RE"
           },
           "departureTime": "2022-01-14T05:45:00",
           "disruptions": [],
           "distance": 122,
           "duration": 2,
           "hasFixedLocations": false,
           "instruction": {
            "$type": "Tfl.Api.Presentation.Entities.Instruction, Tfl.Api.Presentation.Entities",
            "detailed": "Walk to W1C 1DH",
            "steps": [
             {
              "$type": "Tfl.Api.Presentation.Entities.InstructionStep, Tfl.Api.Presentation.Entities",
              "cumulativeDistance": 20,
              "cumulativeTravelTime": 18,
              "description": "Regent Street for 20 metres",
              "descriptionHeading": "Continue along ",
              "distance": 20,
              "latitude": 51.516082452940005,
              "longitude": -0.14228571332,
              "pathAttribute": {
               "$type": "Tfl.Api.Presentation.Entities.PathAttribute, Tfl.Api.Presentation.Entities"
              },
              "skyDirection": 523,
              "skyDirectionDescription": "North",
              "streetName": "Regent Street",
              "trackType": "None",
              "turnDirection": "STRAIGHT"
             },
             {
              "$type": "Tfl.Api.Presentation.Entities.InstructionStep, Tfl.Api.Presentation.Entities",
              "cumulativeDistance": 83,
              "cumulativeTravelTime": 75,
              "description": "on to Great Castle Street, continue for 63 metres",
              "descriptionHeading": "Turn right",
              "distance": 63,
              "latitude": 51.51591033665,
              "longitude": -0.14220623895,
              "pathAttribute": {
               "$type": "Tfl.Api.Presentation.Entities.PathAttribute, Tfl.Api.Presentation.Entities"
              },
              "skyDirection": 252,
              "skyDirectionDescription": "North",
              "streetName": "Great Castle Street",
              "trackType": "None",
              "turnDirection": "RIGHT"
             },
             {
              "$type": "Tfl.Api.Presentation.Entities.InstructionStep, Tfl.Api.Presentation.Entities",
              "cumulativeDistance": 122,
              "cumulativeTravelTime": 108,
              "description": "on to John Princes Street, continue for 39 metres",
              "descriptionHeading": "Turn left",
              "distance": 39,
              "latitude": 51.51575327436,
              "longitude": -0.143077399,
              "pathAttribute": {
               "$type": "Tfl.Api.Presentation.Entities.PathAttribute, Tfl.Api.Presentation.Entities"
              },
              "skyDirection": 509,
              "skyDirectionDescription": "North",
              "streetName": "John Princes Street",
              "trackType": "None",
              "turnDirection": "LEFT"
             }
            ],
            "summary": "Walk to W1C 1DH"
           },
           "isDisrupted": false,
           "mode": {
            "$type": "Tfl.Api.Presentation.Entities.Identifier, Tfl.Api.Presentation.Entities",
            "id": "walking",
            "name": "walking",
            "routeType": "Unknown",
            "status": "Unknown",
            "type": "Mode"
           },
           "obstacles": [],
           "path": {
            "$type": "Tfl.Api.Presentation.Entities.JourneyPlanner.Path, Tfl.Api.Presentation.Entities",
            "elevation": [],
            "lineString": "[[51.51608245294, -0.14228571332],[51.51591033665, -0.14220623895],[51.51575327436, -0.143077399],[51.5154431651, -0.14280175629],[51.51537469218, -0.14302073197]]",
            "stopPoints": []
           },
           "plannedWorks": [],
           "routeOptions": [
            {
             "$type": "Tfl.Api.Presentation.Entities.JourneyPlanner.RouteOption, Tfl.Api.Presentation.Entities",
             "directions": [
              ""
             ],
             "name": ""
            }
           ]
          }
         ],
         "startDateTime": "2022-01-14T05:32:00"
        },
        {
         "$type": "Tfl.Api.Presentation.Entities.JourneyPlanner.Journey, Tfl.Api.Presentation.Entities",
         "arrivalDateTime": "2022-01-14T05:49:00",
         "duration": 12,
         "fare": {
          "$type": "Tfl.Api.Presentation.Entities.JourneyPlanner.JourneyFare, Tfl.Api.Presentation.Entities",
          "caveats": [
           {
            "$type": "Tfl.Api.Presentation.Entities.JourneyPlanner.FareCaveat, Tfl.Api.Presentation.Entities",
            "text": "The price shown is a single adult pay as you go fare.",
            "type": "generic"
           }
          ],
          "fares": [
           {
            "$type": "Tfl.Api.Presentation.Entities.JourneyPlanner.Fare, Tfl.Api.Presentation.Entities",
            "cost": 155,
            "highZone": 0,
            "isHopperFare": false,
            "lowZone": 0,
            "offPeak": 0,
            "peak": 0,
            "taps": [
             {
              "$type": "Tfl.Api.Presentation.Entities.JourneyPlanner.FareTap, Tfl.Api.Presentation.Entities",
              "atcoCode": "490G00045",
              "tapDetails": {
               "$type": "Tfl.Api.Presentation.Entities.JourneyPlanner.FareTapDetails, Tfl.Api.Presentation.Entities",
               "busRouteId": "n15",
               "hostDeviceType": "ETM",
               "modeType": "Bus",
               "nationalLocationCode": 0,
               "tapTimestamp": "2022-01-14T05:41:00+00:00",
               "validationType": "Entry"
              }
             }
            ]
           }
          ],
          "totalCost": 155
         },
         "legs": [
          {
           "$type": "Tfl.Api.Presentation.Entities.JourneyPlanner.Leg, Tfl.Api.Presentation.Entities",
           "arrivalPoint": {
            "$type": "Tfl.Api.Presentation.Entities.StopPoint, Tfl.Api.Presentation.Entities",
            "additionalProperties": [],
            "commonName": "Charing Cross Stn / Trafalgar Square",
            "icsCode": "1000045",
            "lat": 51.50843285337,
            "lon": -0.12552040866,
            "naptanId": "490G00045",
            "placeType": "StopPoint",
            "platformName": "H",
            "stopLetter": "H"
           },
           "arrivalTime": "2022-01-14T05:41:00",
           "departurePoint": {
            "$type": "Tfl.Api.Presentation.Entities.StopPoint, Tfl.Api.Presentation.Entities",
            "additionalProperties": [],
            "commonName": "WC2N 4BF",
            "icsCode": "99999997",
            "lat": 51.50978057722,
            "lon": -0.12713676373000002,
            "placeType": "StopPoint",
            "platformName": ""
           },
           "departureTime": "2022-01-14T05:37:00",
           "disruptions": [],
           "distance": 250,
           "duration": 4,
           "hasFixedLocations": true,
           "instruction": {
            "$type": "Tfl.Api.Presentation.Entities.Instruction, Tfl.Api.Presentation.Entities",
            "detailed": "Walk to Charing Cross",
            "steps": [
             {
              "$type": "Tfl.Api.Presentation.Entities.InstructionStep, Tfl.Api.Presentation.Entities",
              "cumulativeDistance": 35,
              "cumulativeTravelTime": 31,
              "description": "St Martin's Lane for 35 metres",
              "descriptionHeading": "Continue along ",
              "distance": 35,
              "latitude": 51.509786114090005,
              "longitude": -0.12692037214000002,
              "pathAttribute": {
               "$type": "Tfl.Api.Presentation.Entities.PathAttribute, Tfl.Api.Presentation.Entities"
              },
              "skyDirection": 537,
              "skyDirectionDescription": "North",
              "streetName": "St Martin's Lane",
              "trackType": "None",
              "turnDirection": "STRAIGHT"
             },
             {
              "$type": "Tfl.Api.Presentation.Entities.InstructionStep, Tfl.Api.Presentation.Entities",
              "cumulativeDistance": 107,
              "cumulativeTravelTime": 96,
              "description": "on to William IV Street, continue for 72 metres",
              "descriptionHeading": "Turn left",
              "distance": 72,
              "latitude": 51.50947181166,
              "longitude": -0.12694767389,
              "pathAttribute": {
               "$type": "Tfl.Api.Presentation.Entities.PathAttribute, Tfl.Api.Presentation.Entities"
              },
              "skyDirection": 446,
              "skyDirectionDescription": "North",
              "streetName": "William IV Street",
              "trackType": "None",
              "turnDirection": "LEFT"
             },
             {
              "$type": "Tfl.Api.Presentation.Entities.InstructionStep, Tfl.Api.Presentation.Entities",
              "cumulativeDistance": 207,
              "cumulativeTravelTime": 186,
              "description": "on to Adelaide Street, continue for 100 metres",
              "descriptionHeading": "Turn right",
              "distance": 100,
              "latitude": 51.50950018069,
              "longitude": -0.12590892707999998,
              "pathAttribute": {
               "$type": "Tfl.Api.Presentation.Entities.PathAttribute, Tfl.Api.Presentation.Entities"
              },
              "skyDirection": 180,
              "skyDirectionDescription": "North",
              "streetName": "Adelaide Street",
              "trackType": "None",
              "turnDirection": "RIGHT"
             },
             {
              "$type": "Tfl.Api.Presentation.Entities.InstructionStep, Tfl.Api.Presentation.Entities",
              "cumulativeDistance": 234,
              "cumulativeTravelTime": 211,
              "description": "on to Duncannon Street, continue for 27 metres",
              "descriptionHeading": "Turn left",
              "distance": 27,
              "latitude": 51.50860036644,
              "longitude": -0.12587379825,
              "pathAttribute": {
               "$type": "Tfl.Api.Presentation.Entities.PathAttribute, Tfl.Api.Presentation.Entities"
              },
              "skyDirection": 448,
              "skyDirectionDescription": "North",
              "streetName": "Duncannon Street",
              "trackType": "None",
              "turnDirection": "LEFT"
             },
             {
              "$type": "Tfl.Api.Presentation.Entities.InstructionStep, Tfl.Api.Presentation.Entities",
              "cumulativeDistance": 250,
              "cumulativeTravelTime": 225,
              "description": "on to Strand, continue for 16 metres",
              "descriptionHeading": "Take a sharp right",
              "distance": 16,
              "latitude": 51.5086031391,
              "longitude": -0.12548459834,
              "pathAttribute": {
               "$type": "Tfl.Api.Presentation.Entities.PathAttribute, Tfl.Api.Presentation.Entities"
              },
              "skyDirection": 219,
              "skyDirectionDescription": "North",
              "streetName": "Strand",
              "trackType": "None",
              "turnDirection": "SHARP_RIGHT"
             }
            ],
            "summary": "Walk to Charing Cross"
           },
           "isDisrupted": false,
           "mode": {
            "$type": "Tfl.Api.Presentation.Entities.Identifier, Tfl.Api.Presentation.Entities",
            "id": "walking",
            "name": "walking",
            "routeType": "Unknown",
            "status": "Unknown",
            "type": "Mode"
           },
           "obstacles": [],
           "path": {
            "$type": "Tfl.Api.Presentation.Entities.JourneyPlanner.Path, Tfl.Api.Presentation.Entities",
            "elevation": [],
            "lineString": "[[51.50978057722, -0.12713676373],[51.50978611409, -0.12692037214],[51.50971422097, -0.12692332081],[51.50947181166, -0.12694767389],[51.50950018069, -0.12590892708],[51.5093294346, -0.12591593384],[51.50921237821, -0.12590632656],[51.50860036644, -0.12587379825],[51.5086031391, -0.12548459834],[51.50849760109, -0.12563303571]]",
            "stopPoints": []
           },
           "plannedWorks": [],
           "routeOptions": [
            {
             "$type": "Tfl.Api.Presentation.Entities.JourneyPlanner.RouteOption, Tfl.Api.Presentation.Entities",
             "directions": [
              ""
             ],
             "name": ""
            }
           ]
          },
          {
           "$type": "Tfl.Api.Presentation.Entities.JourneyPlanner.Leg, Tfl.Api.Presentation.Entities",
           "arrivalPoint": {
            "$type": "Tfl.Api.Presentation.Entities.StopPoint, Tfl.Api.Presentation.Entities",
            "additionalProperties": [],
            "commonName": "Oxford Circus Station",
            "icsCode": "1000173",
            "lat": 51.514485645280004,
            "lon": -0.14196154432,
            "naptanId": "490G00173RG",
            "placeType": "StopPoint",
            "platformName": "RC",
            "stopLetter": "RC"
           },
           "arrivalTime": "2022-01-14T05:46:00",
           "departurePoint": {
            "$type": "Tfl.Api.Presentation.Entities.StopPoint, Tfl.Api.Presentation.Entities",
            "additionalProperties": [],
            "commonName": "Charing Cross Stn / Trafalgar Square",
            "icsCode": "1000045",
            "lat": 51.50843285337,
            "lon": -0.12552040866,
            "naptanId": "490G00045",
            "placeType": "StopPoint",
            "platformName": "H",
            "stopLetter": "H"
           },
           "departureTime": "2022-01-14T05:41:00",
           "disruptions": [],
           "duration": 5,
           "hasFixedLocations": true,
           "instruction": {
            "$type": "Tfl.Api.Presentation.Entities.Instruction, Tfl.Api.Presentation.Entities",
            "detailed": "N15 bus towards Oxford Circus",
            "steps": [],
            "summary": "N15 bus to Oxford Circus Station"
           },
           "isDisrupted": false,
           "mode": {
            "$type": "Tfl.Api.Presentation.Entities.Identifier, Tfl.Api.Presentation.Entities",
            "id": "bus",
            "name": "bus",
            "routeType": "Unknown",
            "status": "Unknown",
            "type": "Mode"
           },
           "obstacles": [],
           "path": {
            "$type": "Tfl.Api.Presentation.Entities.JourneyPlanner.Path, Tfl.Api.Presentation.Entities",
            "elevation": [],
            "lineString": "[[51.50849352094, -0.12563440734],[51.50841833239, -0.12573716274],[51.5081828266, -0.12619355187],[51.50801737185, -0.1265317796],[51.50784315945, -0.12688477438],[51.50772125611, -0.12713474931],[51.5074463493, -0.12737658596],[51.50738321284, -0.12736476442],[51.50723319894, -0.1275438371],[51.50722835045, -0.12780341875],[51.50730254238, -0.12794447933],[51.50732973219, -0.12795777505],[51.50736866687, -0.12814351182],[51.5074656576, -0.12858625395],[51.50748730727, -0.12881593069],[51.50750849702, -0.12901680599],[51.50757229389, -0.12963383392],[51.50760100606, -0.12988929424],[51.50760100606, -0.12988929424],[51.50761421105, -0.13000678455],[51.5076344804, -0.13015005748],[51.50769433368, -0.13108427662],[51.50745417877, -0.13181461495],[51.50723891547, -0.13241423636],[51.50758843409, -0.13290430347],[51.50795317356, -0.13322083138],[51.50856444835, -0.1337722686],[51.50897767249, -0.13411836947],[51.50897767249, -0.13411836947],[51.50922065402, -0.13432188485],[51.50961303699, -0.1346805386],[51.50974045379, -0.13477621091],[51.50984943911, -0.13484381454],[51.50994989575, -0.13494058881],[51.51000398832, -0.1355148206],[51.50995281541, -0.13568984187],[51.50986243076, -0.13622673771],[51.50990334777, -0.1371041381],[51.50995392223, -0.1373016318],[51.50995392223, -0.1373016318],[51.51005674077, -0.13770314438],[51.51037143411, -0.13826675679],[51.51069031179, -0.13852757046],[51.51103706317, -0.13884489705],[51.51127414526, -0.13905140592],[51.51129219914, -0.13906848207],[51.51129219914, -0.13906848207],[51.5114932536, -0.13925864926],[51.51160269339, -0.13935507057],[51.51208629904, -0.13979653938],[51.51252405606, -0.14018223742],[51.51307125061, -0.14066437027],[51.51314428585, -0.14073345641],[51.51370046492, -0.14121523646],[51.51401057778, -0.14149085808],[51.5143829124, -0.14172071403],[51.51451340728, -0.14176905969]]",
            "stopPoints": [
             {
              "$type": "Tfl.Api.Presentation.Entities.Identifier, Tfl.Api.Presentation.Entities",
              "id": "490G000804",
              "name": "Northumberland Avenue / Trafalgar Square",
              "routeType": "Unknown",
              "status": "Unknown",
              "type": "StopPoint",
              "uri": "/StopPoint/490G000804"
             },
             {
              "$type": "Tfl.Api.Presentation.Entities.Identifier, Tfl.Api.Presentation.Entities",
              "id": "490G00011516",
              "name": "Regent Street / St James's",
              "routeType": "Unknown",
              "status": "Unknown",
              "type": "StopPoint",
              "uri": "/StopPoint/490G00011516"
             },
             {
              "$type": "Tfl.Api.Presentation.Entities.Identifier, Tfl.Api.Presentation.Entities",
              "id": "490G00179D",
              "name": "Piccadilly Circus",
              "routeType": "Unknown",
              "status": "Unknown",
              "type": "StopPoint",
              "uri": "/StopPoint/490G00179D"
             },
             {
              "$type": "Tfl.Api.Presentation.Entities.Identifier, Tfl.Api.Presentation.Entities",
              "id": "490G000041",
              "name": "Beak Street / Hamleys Toy Store",
              "routeType": "Unknown",
              "status": "Unknown",
              "type": "StopPoint",
              "uri": "/StopPoint/490G000041"
             },
             {
              "$type": "Tfl.Api.Presentation.Entities.Identifier, Tfl.Api.Presentation.Entities",
              "id": "490G00173RG",
              "name": "Oxford Circus Station",
              "routeType": "Unknown",
              "status": "Unknown",
              "type": "StopPoint",
              "uri": "/StopPoint/490G00173RG"
             }
            ]
           },
           "plannedWorks": [],
           "routeOptions": [
            {
             "$type": "Tfl.Api.Presentation.Entities.JourneyPlanner.RouteOption, Tfl.Api.Presentation.Entities",
             "directions": [
              "Oxford Circus"
             ],
             "lineIdentifier": {
              "$type": "Tfl.Api.Presentation.Entities.Identifier, Tfl.Api.Presentation.Entities",
              "crowding": {
               "$type": "Tfl.Api.Presentation.Entities.Crowding, Tfl.Api.Presentation.Entities"
              },
              "id": "n15",
              "name": "N15",
              "routeType": "Unknown",
              "status": "Unknown",
              "type": "Line",
              "uri": "/Line/n15"
             },
             "name": "N15"
            }
           ]
          },
          {
           "$type": "Tfl.Api.Presentation.Entities.JourneyPlanner.Leg, Tfl.Api.Presentation.Entities",
           "arrivalPoint": {
            "$type": "Tfl.Api.Presentation.Entities.Place, Tfl.Api.Presentation.Entities",
            "commonName": "W1C 1DH",
            "lat": 51.51537469218,
            "lon": -0.14302073196999998,
            "placeType": "StopPoint"
           },
           "arrivalTime": "2022-01-14T05:49:00",
           "departurePoint": {
            "$type": "Tfl.Api.Presentation.Entities.StopPoint, Tfl.Api.Presentation.Entities",
            "additionalProperties": [],
            "commonName": "Oxford Circus Station",
            "icsCode": "1000173",
            "lat": 51.514485645280004,
            "lon": -0.14196154432,
            "naptanId": "490G00173RG",
            "placeType": "StopPoint",
            "platformName": "RC",
            "stopLetter": "RC"
           },
           "departureTime": "2022-01-14T05:46:00",
           "disruptions": [],
           "distance": 152,
           "duration": 3,
           "hasFixedLocations": false,
           "instruction": {
            "$type": "Tfl.Api.Presentation.Entities.Instruction, Tfl.Api.Presentation.Entities",
            "detailed": "Walk to W1C 1DH",
            "steps": [
             {
              "$type": "Tfl.Api.Presentation.Entities.InstructionStep, Tfl.Api.Presentation.Entities",
              "cumulativeDistance": 17,
              "cumulativeTravelTime": 15,
              "description": "Regent Street for 17 metres",
              "descriptionHeading": "Continue along ",
              "distance": 17,
              "latitude": 51.5145186258,
              "longitude": -0.14177284062,
              "pathAttribute": {
               "$type": "Tfl.Api.Presentation.Entities.PathAttribute, Tfl.Api.Presentation.Entities"
              },
              "skyDirection": 346,
              "skyDirectionDescription": "North",
              "streetName": "Regent Street",
              "trackType": "None",
              "turnDirection": "STRAIGHT"
             },
             {
              "$type": "Tfl.Api.Presentation.Entities.InstructionStep, Tfl.Api.Presentation.Entities",
              "cumulativeDistance": 49,
              "cumulativeTravelTime": 44,
              "description": "on to Princes Street, continue for 32 metres",
              "descriptionHeading": "Turn left",
              "distance": 32,
              "latitude": 51.5146633259,
              "longitude": -0.1418246018,
              "pathAttribute": {
               "$type": "Tfl.Api.Presentation.Entities.PathAttribute, Tfl.Api.Presentation.Entities"
              },
              "skyDirection": 254,
              "skyDirectionDescription": "North",
              "streetName": "Princes Street",
              "trackType": "None",
              "turnDirection": "LEFT"
             },
             {
              "$type": "Tfl.Api.Presentation.Entities.InstructionStep, Tfl.Api.Presentation.Entities",
              "cumulativeDistance": 108,
              "cumulativeTravelTime": 97,
              "description": "on to Swallow Place, continue for 59 metres",
              "descriptionHeading": "Turn right",
              "distance": 59,
              "latitude": 51.51458951835,
              "longitude": -0.14227439158,
              "pathAttribute": {
               "$type": "Tfl.Api.Presentation.Entities.PathAttribute, Tfl.Api.Presentation.Entities"
              },
              "skyDirection": 342,
              "skyDirectionDescription": "North",
              "streetName": "Swallow Place",
              "trackType": "None",
              "turnDirection": "RIGHT"
             },
             {
              "$type": "Tfl.Api.Presentation.Entities.InstructionStep, Tfl.Api.Presentation.Entities",
              "cumulativeDistance": 123,
              "cumulativeTravelTime": 110,
              "description": "on to Swallow Passage, continue for 15 metres",
              "descriptionHeading": "Continue along ",
              "distance": 15,
              "latitude": 51.515096880269994,
              "longitude": -0.14251317629000002,
              "pathAttribute": {
               "$type": "Tfl.Api.Presentation.Entities.PathAttribute, Tfl.Api.Presentation.Entities"
              },
              "skyDirection": 337,
              "skyDirectionDescription": "North",
              "streetName": "Swallow Passage",
              "trackType": "None",
              "turnDirection": "STRAIGHT"
             },
             {
              "$type": "Tfl.Api.Presentation.Entities.InstructionStep, Tfl.Api.Presentation.Entities",
              "cumulativeDistance": 152,
              "cumulativeTravelTime": 132,
              "description": "on to John Princes Street, continue for 29 metres",
              "descriptionHeading": "Continue along ",
              "distance": 29,
              "latitude": 51.51522406282,
              "longitude": -0.14259447834,
              "pathAttribute": {
               "$type": "Tfl.Api.Presentation.Entities.PathAttribute, Tfl.Api.Presentation.Entities"
              },
              "skyDirection": 329,
              "skyDirectionDescription": "North",
              "streetName": "John Princes Street",
              "trackType": "None",
              "turnDirection": "STRAIGHT"
             }
            ],
            "summary": "Walk to W1C 1DH"
           },
           "isDisrupted": false,
           "mode": {
            "$type": "Tfl.Api.Presentation.Entities.Identifier, Tfl.Api.Presentation.Entities",
            "id": "walking",
            "name": "walking",
            "routeType": "Unknown",
            "status": "Unknown",
            "type": "Mode"
           },
           "obstacles": [],
           "path": {
            "$type": "Tfl.Api.Presentation.Entities.JourneyPlanner.Path, Tfl.Api.Presentation.Entities",
            "elevation": [],
            "lineString": "[[51.5145186258, -0.14177284062],[51.5146633259, -0.1418246018],[51.51458951835, -0.14227439158],[51.51509688027, -0.14251317629],[51.51522406282, -0.14259447834],[51.51545215181, -0.14280139076],[51.51537469218, -0.14302073197]]",
            "stopPoints": []
           },
           "plannedWorks": [],
           "routeOptions": [
            {
             "$type": "Tfl.Api.Presentation.Entities.JourneyPlanner.RouteOption, Tfl.Api.Presentation.Entities",
             "directions": [
              ""
             ],
             "name": ""
            }
           ]
          }
         ],
         "startDateTime": "2022-01-14T05:37:00"
        },
        {
         "$type": "Tfl.Api.Presentation.Entities.JourneyPlanner.Journey, Tfl.Api.Presentation.Entities",
         "arrivalDateTime": "2022-01-14T05:56:00",
         "duration": 16,
         "fare": {
          "$type": "Tfl.Api.Presentation.Entities.JourneyPlanner.JourneyFare, Tfl.Api.Presentation.Entities",
          "caveats": [
           {
            "$type": "Tfl.Api.Presentation.Entities.JourneyPlanner.FareCaveat, Tfl.Api.Presentation.Entities",
            "text": "<p>Unlimited bus and tram journeys within one hour.</p>",
            "type": "hopper"
           },
           {
            "$type": "Tfl.Api.Presentation.Entities.JourneyPlanner.FareCaveat, Tfl.Api.Presentation.Entities",
            "text": "The price shown is a single adult pay as you go fare.",
            "type": "generic"
           }
          ],
          "fares": [
           {
            "$type": "Tfl.Api.Presentation.Entities.JourneyPlanner.Fare, Tfl.Api.Presentation.Entities",
            "cost": 155,
            "highZone": 0,
            "isHopperFare": false,
            "lowZone": 0,
            "offPeak": 0,
            "peak": 0,
            "taps": [
             {
              "$type": "Tfl.Api.Presentation.Entities.JourneyPlanner.FareTap, Tfl.Api.Presentation.Entities",
              "atcoCode": "490G00016161",
              "tapDetails": {
               "$type": "Tfl.Api.Presentation.Entities.JourneyPlanner.FareTapDetails, Tfl.Api.Presentation.Entities",
               "busRouteId": "n29",
               "hostDeviceType": "ETM",
               "modeType": "Bus",
               "nationalLocationCode": 0,
               "tapTimestamp": "2022-01-14T05:42:00+00:00",
               "validationType": "Entry"
              }
             }
            ]
           },
           {
            "$type": "Tfl.Api.Presentation.Entities.JourneyPlanner.Fare, Tfl.Api.Presentation.Entities",
            "cost": 0,
            "highZone": 0,
            "isHopperFare": true,
            "lowZone": 0,
            "offPeak": 0,
            "peak": 0,
            "taps": [
             {
              "$type": "Tfl.Api.Presentation.Entities.JourneyPlanner.FareTap, Tfl.Api.Presentation.Entities",
              "atcoCode": "490G000804",
              "tapDetails": {
               "$type": "Tfl.Api.Presentation.Entities.JourneyPlanner.FareTapDetails, Tfl.Api.Presentation.Entities",
               "busRouteId": "453",
               "hostDeviceType": "ETM",
               "modeType": "Bus",
               "nationalLocationCode": 0,
               "tapTimestamp": "2022-01-14T05:46:00+00:00",
               "validationType": "Entry"
              }
             }
            ]
           },
           {
            "$type": "Tfl.Api.Presentation.Entities.JourneyPlanner.Fare, Tfl.Api.Presentation.Entities",
            "cost": 0,
            "highZone": 0,
            "isHopperFare": true,
            "lowZone": 0,
            "offPeak": 0,
            "peak": 0,
            "taps": [
             {
              "$type": "Tfl.Api.Presentation.Entities.JourneyPlanner.FareTap, Tfl.Api.Presentation.Entities",
              "atcoCode": "490G00179D",
              "tapDetails": {
               "$type": "Tfl.Api.Presentation.Entities.JourneyPlanner.FareTapDetails, Tfl.Api.Presentation.Entities",
               "busRouteId": "94",
               "hostDeviceType": "ETM",
               "modeType": "Bus",
               "nationalLocationCode": 0,
               "tapTimestamp": "2022-01-14T05:51:00+00:00",
               "validationType": "Entry"
              }
             }
            ]
           }
          ],
          "totalCost": 155
         },
         "legs": [
          {
           "$type": "Tfl.Api.Presentation.Entities.JourneyPlanner.Leg, Tfl.Api.Presentation.Entities",
           "arrivalPoint": {
            "$type": "Tfl.Api.Presentation.Entities.StopPoint, Tfl.Api.Presentation.Entities",
            "additionalProperties": [],
            "commonName": "St Martin's Place",
            "icsCode": "1016161",
            "lat": 51.50984622336,
            "lon": -0.1278690319,
            "naptanId": "490G00016161",
            "placeType": "StopPoint",
            "platformName": "K",
            "stopLetter": "K"
           },
           "arrivalTime": "2022-01-14T05:42:00",
           "departurePoint": {
            "$type": "Tfl.Api.Presentation.Entities.StopPoint, Tfl.Api.Presentation.Entities",
            "additionalProperties": [],
            "commonName": "WC2N 4BF",
            "icsCode": "99999997",
            "lat": 51.50978057722,
            "lon": -0.12713676373000002,
            "placeType": "StopPoint",
            "platformName": ""
           },
           "departureTime": "2022-01-14T05:40:00",
           "disruptions": [],
           "distance": 116,
           "duration": 2,
           "hasFixedLocations": true,
           "instruction": {
            "$type": "Tfl.Api.Presentation.Entities.Instruction, Tfl.Api.Presentation.Entities",
            "detailed": "Walk to St Martin's Place",
            "steps": [
             {
              "$type": "Tfl.Api.Presentation.Entities.InstructionStep, Tfl.Api.Presentation.Entities",
              "cumulativeDistance": 35,
              "cumulativeTravelTime": 31,
              "description": "St Martin's Lane for 35 metres",
              "descriptionHeading": "Continue along ",
              "distance": 35,
              "latitude": 51.509786114090005,
              "longitude": -0.12692037214000002,
              "pathAttribute": {
               "$type": "Tfl.Api.Presentation.Entities.PathAttribute, Tfl.Api.Presentation.Entities"
              },
              "skyDirection": 537,
              "skyDirectionDescription": "North",
              "streetName": "St Martin's Lane",
              "trackType": "None",
              "turnDirection": "STRAIGHT"
             },
             {
              "$type": "Tfl.Api.Presentation.Entities.InstructionStep, Tfl.Api.Presentation.Entities",
              "cumulativeDistance": 116,
              "cumulativeTravelTime": 103,
              "description": "on to St Martin's Place, continue for 81 metres",
              "descriptionHeading": "Turn right",
              "distance": 81,
              "latitude": 51.50947181166,
              "longitude": -0.12694767389,
              "pathAttribute": {
               "$type": "Tfl.Api.Presentation.Entities.PathAttribute, Tfl.Api.Presentation.Entities"
              },
              "skyDirection": 280,
              "skyDirectionDescription": "North",
              "streetName": "St Martin's Place",
              "trackType": "None",
              "turnDirection": "RIGHT"
             }
            ],
            "summary": "Walk to St Martin's Place"
           },
           "isDisrupted": false,
           "mode": {
            "$type": "Tfl.Api.Presentation.Entities.Identifier, Tfl.Api.Presentation.Entities",
            "id": "walking",
            "name": "walking",
            "routeType": "Unknown",
            "status": "Unknown",
            "type": "Mode"
           },
           "obstacles": [],
           "path": {
            "$type": "Tfl.Api.Presentation.Entities.JourneyPlanner.Path, Tfl.Api.Presentation.Entities",
            "elevation": [],
            "lineString": "[[51.50978057722, -0.12713676373],[51.50978611409, -0.12692037214],[51.50971422097, -0.12692332081],[51.50947181166, -0.12694767389],[51.50954345666, -0.12749234934],[51.50970220715, -0.12786052472],[51.50976718255, -0.12798755977]]",
            "stopPoints": []
           },
           "plannedWorks": [],
           "routeOptions": [
            {
             "$type": "Tfl.Api.Presentation.Entities.JourneyPlanner.RouteOption, Tfl.Api.Presentation.Entities",
             "directions": [
              ""
             ],
             "name": ""
            }
           ]
          },
          {
           "$type": "Tfl.Api.Presentation.Entities.JourneyPlanner.Leg, Tfl.Api.Presentation.Entities",
           "arrivalPoint": {
            "$type": "Tfl.Api.Presentation.Entities.StopPoint, Tfl.Api.Presentation.Entities",
            "additionalProperties": [],
            "commonName": "Northumberland Avenue / Trafalgar Square",
            "icsCode": "1013767",
            "lat": 51.508187641730004,
            "lon": -0.12705798218,
            "naptanId": "490G000804",
            "placeType": "StopPoint",
            "platformName": "D",
            "stopLetter": "D"
           },
           "arrivalTime": "2022-01-14T05:43:00",
           "departurePoint": {
            "$type": "Tfl.Api.Presentation.Entities.StopPoint, Tfl.Api.Presentation.Entities",
            "additionalProperties": [],
            "commonName": "St Martin's Place",
            "icsCode": "1016161",
            "lat": 51.50984622336,
            "lon": -0.1278690319,
            "naptanId": "490G00016161",
            "placeType": "StopPoint",
            "platformName": "K",
            "stopLetter": "K"
           },
           "departureTime": "2022-01-14T05:42:00",
           "disruptions": [
            {
             "$type": "Tfl.Api.Presentation.Entities.Disruption, Tfl.Api.Presentation.Entities",
             "additionalInfo": "",
             "category": "PlannedWork",
             "categoryDescription": "PlannedWork",
             "created": "2022-01-07T19:09:00",
             "description": "CHARING CROSS ROAD, W1: Routes 24 29 N5 N20 N29 and N279 are on diversion southbound only due to Thames Water works to repair a burst water main until Friday 14 January. Buses are diverted via New Oxford Street and Shaftesbury Avenue, missing stop Cambridge Circus (D).",
             "lastUpdate": "2022-01-07T19:11:00",
             "summary": "NMCC CE22/24026 CHARING CROSS ROAD ROUTES 24 29 N5 N20 N29 N279",
             "type": "lineInfo"
            }
           ],
           "duration": 1,
           "hasFixedLocations": true,
           "instruction": {
            "$type": "Tfl.Api.Presentation.Entities.Instruction, Tfl.Api.Presentation.Entities",
            "detailed": "N29 bus towards Trafalgar Square",
            "steps": [],
            "summary": "N29 bus to Trafalgar Square"
           },
           "isDisrupted": true,
           "mode": {
            "$type": "Tfl.Api.Presentation.Entities.Identifier, Tfl.Api.Presentation.Entities",
            "id": "bus",
            "name": "bus",
            "routeType": "Unknown",
            "status": "Unknown",
            "type": "Mode"
           },
           "obstacles": [
            {
             "$type": "Tfl.Api.Presentation.Entities.JourneyPlanner.Obstacle, Tfl.Api.Presentation.Entities",
             "incline": "LEVEL",
             "position": "AFTER",
             "stopId": 1013767,
             "type": "WALKWAY"
            }
           ],
           "path": {
            "$type": "Tfl.Api.Presentation.Entities.JourneyPlanner.Path, Tfl.Api.Presentation.Entities",
            "elevation": [],
            "lineString": "[[51.50976620868, -0.12797953811],[51.50970220715, -0.12786052472],[51.50954345666, -0.12749234934],[51.50917132523, -0.12727703483],[51.50911717542, -0.12726484454],[51.50880195303, -0.12723453848],[51.50856807034, -0.1272297185],[51.50818029408, -0.12715136243]]",
            "stopPoints": [
             {
              "$type": "Tfl.Api.Presentation.Entities.Identifier, Tfl.Api.Presentation.Entities",
              "id": "490G000804",
              "name": "Northumberland Avenue / Trafalgar Square",
              "routeType": "Unknown",
              "status": "Unknown",
              "type": "StopPoint",
              "uri": "/StopPoint/490G000804"
             }
            ]
           },
           "plannedWorks": [],
           "routeOptions": [
            {
             "$type": "Tfl.Api.Presentation.Entities.JourneyPlanner.RouteOption, Tfl.Api.Presentation.Entities",
             "directions": [
              "Trafalgar Square"
             ],
             "lineIdentifier": {
              "$type": "Tfl.Api.Presentation.Entities.Identifier, Tfl.Api.Presentation.Entities",
              "crowding": {
               "$type": "Tfl.Api.Presentation.Entities.Crowding, Tfl.Api.Presentation.Entities"
              },
              "id": "n29",
              "name": "N29",
              "routeType": "Unknown",
              "status": "Unknown",
              "type": "Line",
              "uri": "/Line/n29"
             },
             "name": "N29"
            }
           ]
          },
          {
           "$type": "Tfl.Api.Presentation.Entities.JourneyPlanner.Leg, Tfl.Api.Presentation.Entities",
           "arrivalPoint": {
            "$type": "Tfl.Api.Presentation.Entities.StopPoint, Tfl.Api.Presentation.Entities",
            "additionalProperties": [],
            "commonName": "Piccadilly Circus",
            "icsCode": "1000179",
            "lat": 51.509880276160004,
            "lon": -0.13735006586999998,
            "naptanId": "490G00179D",
            "placeType": "StopPoint",
            "platformName": "",
            "stopLetter": "E"
           },
           "arrivalTime": "2022-01-14T05:49:00",
           "departurePoint": {
            "$type": "Tfl.Api.Presentation.Entities.StopPoint, Tfl.Api.Presentation.Entities",
            "additionalProperties": [],
            "commonName": "Northumberland Avenue / Trafalgar Square",
            "icsCode": "1013767",
            "lat": 51.50753172378,
            "lon": -0.12990929012,
            "naptanId": "490G000804",
            "placeType": "StopPoint",
            "platformName": "",
            "stopLetter": "T"
           },
           "departureTime": "2022-01-14T05:46:00",
           "disruptions": [],
           "duration": 3,
           "hasFixedLocations": true,
           "instruction": {
            "$type": "Tfl.Api.Presentation.Entities.Instruction, Tfl.Api.Presentation.Entities",
            "detailed": "453 bus towards Marylebone",
            "steps": [],
            "summary": "453 bus to Piccadilly Circus"
           },
           "isDisrupted": false,
           "mode": {
            "$type": "Tfl.Api.Presentation.Entities.Identifier, Tfl.Api.Presentation.Entities",
            "id": "bus",
            "name": "bus",
            "routeType": "Unknown",
            "status": "Unknown",
            "type": "Mode"
           },
           "obstacles": [],
           "path": {
            "$type": "Tfl.Api.Presentation.Entities.JourneyPlanner.Path, Tfl.Api.Presentation.Entities",
            "elevation": [],
            "lineString": "[[51.50760100606, -0.12988929424],[51.50761421105, -0.13000678455],[51.5076344804, -0.13015005748],[51.50769433368, -0.13108427662],[51.50745417877, -0.13181461495],[51.50723891547, -0.13241423636],[51.50758843409, -0.13290430347],[51.50795317356, -0.13322083138],[51.50856444835, -0.1337722686],[51.50897767249, -0.13411836947],[51.50897767249, -0.13411836947],[51.50922065402, -0.13432188485],[51.50961303699, -0.1346805386],[51.50974045379, -0.13477621091],[51.50984943911, -0.13484381454],[51.50994989575, -0.13494058881],[51.51000398832, -0.1355148206],[51.50995281541, -0.13568984187],[51.50986243076, -0.13622673771],[51.50990334777, -0.1371041381],[51.50995392223, -0.1373016318]]",
            "stopPoints": [
             {
              "$type": "Tfl.Api.Presentation.Entities.Identifier, Tfl.Api.Presentation.Entities",
              "id": "490G00011516",
              "name": "Regent Street / St James's",
              "routeType": "Unknown",
              "status": "Unknown",
              "type": "StopPoint",
              "uri": "/StopPoint/490G00011516"
             },
             {
              "$type": "Tfl.Api.Presentation.Entities.Identifier, Tfl.Api.Presentation.Entities",
              "id": "490G00179D",
              "name": "Piccadilly Circus",
              "routeType": "Unknown",
              "status": "Unknown",
              "type": "StopPoint",
              "uri": "/StopPoint/490G00179D"
             }
            ]
           },
           "plannedWorks": [],
           "routeOptions": [
            {
             "$type": "Tfl.Api.Presentation.Entities.JourneyPlanner.RouteOption, Tfl.Api.Presentation.Entities",
             "directions": [
              "Marylebone"
             ],
             "lineIdentifier": {
              "$type": "Tfl.Api.Presentation.Entities.Identifier, Tfl.Api.Presentation.Entities",
              "crowding": {
               "$type": "Tfl.Api.Presentation.Entities.Crowding, Tfl.Api.Presentation.Entities"
              },
              "id": "453",
              "name": "453",
              "routeType": "Unknown",
              "status": "Unknown",
              "type": "Line",
              "uri": "/Line/453"
             },
             "name": "453"
            }
           ]
          },
          {
           "$type": "Tfl.Api.Presentation.Entities.JourneyPlanner.Leg, Tfl.Api.Presentation.Entities",
           "arrivalPoint": {
            "$type": "Tfl.Api.Presentation.Entities.StopPoint, Tfl.Api.Presentation.Entities",
            "additionalProperties": [],
            "commonName": "Oxford Circus Station",
            "icsCode": "1000173",
            "lat": 51.514485645280004,
            "lon": -0.14196154432,
            "naptanId": "490G00173RG",
            "placeType": "StopPoint",
            "platformName": "RC",
            "stopLetter": "RC"
           },
           "arrivalTime": "2022-01-14T05:53:00",
           "departurePoint": {
            "$type": "Tfl.Api.Presentation.Entities.StopPoint, Tfl.Api.Presentation.Entities",
            "additionalProperties": [],
            "commonName": "Piccadilly Circus",
            "icsCode": "1000179",
            "lat": 51.509880276160004,
            "lon": -0.13735006586999998,
            "naptanId": "490G00179D",
            "placeType": "StopPoint",
            "platformName": "",
            "stopLetter": "E"
           },
           "departureTime": "2022-01-14T05:51:00",
           "disruptions": [],
           "duration": 2,
           "hasFixedLocations": true,
           "instruction": {
            "$type": "Tfl.Api.Presentation.Entities.Instruction, Tfl.Api.Presentation.Entities",
            "detailed": "94 bus towards Acton Green",
            "steps": [],
            "summary": "94 bus to Oxford Circus Station"
           },
           "isDisrupted": false,
           "mode": {
            "$type": "Tfl.Api.Presentation.Entities.Identifier, Tfl.Api.Presentation.Entities",
            "id": "bus",
            "name": "bus",
            "routeType": "Unknown",
            "status": "Unknown",
            "type": "Mode"
           },
           "obstacles": [],
           "path": {
            "$type": "Tfl.Api.Presentation.Entities.JourneyPlanner.Path, Tfl.Api.Presentation.Entities",
            "elevation": [],
            "lineString": "[[51.50995392223, -0.1373016318],[51.51005674077, -0.13770314438],[51.51037143411, -0.13826675679],[51.51069031179, -0.13852757046],[51.51103706317, -0.13884489705],[51.51127414526, -0.13905140592],[51.5114932536, -0.13925864926],[51.51160269339, -0.13935507057],[51.51208629904, -0.13979653938],[51.51240441016, -0.14007681923],[51.51240441016, -0.14007681923],[51.51252405606, -0.14018223742],[51.51307125061, -0.14066437027],[51.51314428585, -0.14073345641],[51.51370046492, -0.14121523646],[51.51401057778, -0.14149085808],[51.5143829124, -0.14172071403],[51.51451340728, -0.14176905969]]",
            "stopPoints": [
             {
              "$type": "Tfl.Api.Presentation.Entities.Identifier, Tfl.Api.Presentation.Entities",
              "id": "490G00004810",
              "name": "Conduit Street / Hamleys Toy Store",
              "routeType": "Unknown",
              "status": "Unknown",
              "type": "StopPoint",
              "uri": "/StopPoint/490G00004810"
             },
             {
              "$type": "Tfl.Api.Presentation.Entities.Identifier, Tfl.Api.Presentation.Entities",
              "id": "490G00173RG",
              "name": "Oxford Circus Station",
              "routeType": "Unknown",
              "status": "Unknown",
              "type": "StopPoint",
              "uri": "/StopPoint/490G00173RG"
             }
            ]
           },
           "plannedWorks": [],
           "routeOptions": [
            {
             "$type": "Tfl.Api.Presentation.Entities.JourneyPlanner.RouteOption, Tfl.Api.Presentation.Entities",
             "directions": [
              "Acton Green"
             ],
             "lineIdentifier": {
              "$type": "Tfl.Api.Presentation.Entities.Identifier, Tfl.Api.Presentation.Entities",
              "crowding": {
               "$type": "Tfl.Api.Presentation.Entities.Crowding, Tfl.Api.Presentation.Entities"
              },
              "id": "94",
              "name": "94",
              "routeType": "Unknown",
              "status": "Unknown",
              "type": "Line",
              "uri": "/Line/94"
             },
             "name": "94"
            }
           ]
          },
          {
           "$type": "Tfl.Api.Presentation.Entities.JourneyPlanner.Leg, Tfl.Api.Presentation.Entities",
           "arrivalPoint": {
            "$type": "Tfl.Api.Presentation.Entities.Place, Tfl.Api.Presentation.Entities",
            "commonName": "W1C 1DH",
            "lat": 51.51537469218,
            "lon": -0.14302073196999998,
            "placeType": "StopPoint"
           },
           "arrivalTime": "2022-01-14T05:56:00",
           "departurePoint": {
            "$type": "Tfl.Api.Presentation.Entities.StopPoint, Tfl.Api.Presentation.Entities",
            "additionalProperties": [],
            "commonName": "Oxford Circus Station",
            "icsCode": "1000173",
            "lat": 51.514485645280004,
            "lon": -0.14196154432,
            "naptanId": "490G00173RG",
            "placeType": "StopPoint",
            "platformName": "RC",
            "stopLetter": "RC"
           },
           "departureTime": "2022-01-14T05:53:00",
           "disruptions": [],
           "distance": 152,
           "duration": 3,
           "hasFixedLocations": false,
           "instruction": {
            "$type": "Tfl.Api.Presentation.Entities.Instruction, Tfl.Api.Presentation.Entities",
            "detailed": "Walk to W1C 1DH",
            "steps": [
             {
              "$type": "Tfl.Api.Presentation.Entities.InstructionStep, Tfl.Api.Presentation.Entities",
              "cumulativeDistance": 17,
              "cumulativeTravelTime": 15,
              "description": "Regent Street for 17 metres",
              "descriptionHeading": "Continue along ",
              "distance": 17,
              "latitude": 51.5145186258,
              "longitude": -0.14177284062,
              "pathAttribute": {
               "$type": "Tfl.Api.Presentation.Entities.PathAttribute, Tfl.Api.Presentation.Entities"
              },
              "skyDirection": 346,
              "skyDirectionDescription": "North",
              "streetName": "Regent Street",
              "trackType": "None",
              "turnDirection": "STRAIGHT"
             },
             {
              "$type": "Tfl.Api.Presentation.Entities.InstructionStep, Tfl.Api.Presentation.Entities",
              "cumulativeDistance": 49,
              "cumulativeTravelTime": 44,
              "description": "on to Princes Street, continue for 32 metres",
              "descriptionHeading": "Turn left",
              "distance": 32,
              "latitude": 51.5146633259,
              "longitude": -0.1418246018,
              "pathAttribute": {
               "$type": "Tfl.Api.Presentation.Entities.PathAttribute, Tfl.Api.Presentation.Entities"
              },
              "skyDirection": 254,
              "skyDirectionDescription": "North",
              "streetName": "Princes Street",
              "trackType": "None",
              "turnDirection": "LEFT"
             },
             {
              "$type": "Tfl.Api.Presentation.Entities.InstructionStep, Tfl.Api.Presentation.Entities",
              "cumulativeDistance": 108,
              "cumulativeTravelTime": 97,
              "description": "on to Swallow Place, continue for 59 metres",
              "descriptionHeading": "Turn right",
              "distance": 59,
              "latitude": 51.51458951835,
              "longitude": -0.14227439158,
              "pathAttribute": {
               "$type": "Tfl.Api.Presentation.Entities.PathAttribute, Tfl.Api.Presentation.Entities"
              },
              "skyDirection": 342,
              "skyDirectionDescription": "North",
              "streetName": "Swallow Place",
              "trackType": "None",
              "turnDirection": "RIGHT"
             },
             {
              "$type": "Tfl.Api.Presentation.Entities.InstructionStep, Tfl.Api.Presentation.Entities",
              "cumulativeDistance": 123,
              "cumulativeTravelTime": 110,
              "description": "on to Swallow Passage, continue for 15 metres",
              "descriptionHeading": "Continue along ",
              "distance": 15,
              "latitude": 51.515096880269994,
              "longitude": -0.14251317629000002,
              "pathAttribute": {
               "$type": "Tfl.Api.Presentation.Entities.PathAttribute, Tfl.Api.Presentation.Entities"
              },
              "skyDirection": 337,
              "skyDirectionDescription": "North",
              "streetName": "Swallow Passage",
              "trackType": "None",
              "turnDirection": "STRAIGHT"
             },
             {
              "$type": "Tfl.Api.Presentation.Entities.InstructionStep, Tfl.Api.Presentation.Entities",
              "cumulativeDistance": 152,
              "cumulativeTravelTime": 132,
              "description": "on to John Princes Street, continue for 29 metres",
              "descriptionHeading": "Continue along ",
              "distance": 29,
              "latitude": 51.51522406282,
              "longitude": -0.14259447834,
              "pathAttribute": {
               "$type": "Tfl.Api.Presentation.Entities.PathAttribute, Tfl.Api.Presentation.Entities"
              },
              "skyDirection": 329,
              "skyDirectionDescription": "North",
              "streetName": "John Princes Street",
              "trackType": "None",
              "turnDirection": "STRAIGHT"
             }
            ],
            "summary": "Walk to W1C 1DH"
           },
           "isDisrupted": false,
           "mode": {
            "$type": "Tfl.Api.Presentation.Entities.Identifier, Tfl.Api.Presentation.Entities",
            "id": "walking",
            "name": "walking",
            "routeType": "Unknown",
            "status": "Unknown",
            "type": "Mode"
           },
           "obstacles": [],
           "path": {
            "$type": "Tfl.Api.Presentation.Entities.JourneyPlanner.Path, Tfl.Api.Presentation.Entities",
            "elevation": [],
            "lineString": "[[51.5145186258, -0.14177284062],[51.5146633259, -0.1418246018],[51.51458951835, -0.14227439158],[51.51509688027, -0.14251317629],[51.51522406282, -0.14259447834],[51.51545215181, -0.14280139076],[51.51537469218, -0.14302073197]]",
            "stopPoints": []
           },
           "plannedWorks": [],
           "routeOptions": [
            {
             "$type": "Tfl.Api.Presentation.Entities.JourneyPlanner.RouteOption, Tfl.Api.Presentation.Entities",
             "directions": [
              ""
             ],
             "name": ""
            }
           ]
          }
         ],
         "startDateTime": "2022-01-14T05:40:00"
        },
        {
         "$type": "Tfl.Api.Presentation.Entities.JourneyPlanner.Journey, Tfl.Api.Presentation.Entities",
         "arrivalDateTime": "2022-01-14T05:59:00",
         "duration": 23,
         "legs": [
          {
           "$type": "Tfl.Api.Presentation.Entities.JourneyPlanner.Leg, Tfl.Api.Presentation.Entities",
           "arrivalPoint": {
            "$type": "Tfl.Api.Presentation.Entities.Place, Tfl.Api.Presentation.Entities",
            "commonName": "W1C 1DH",
            "lat": 51.51537469218,
            "lon": -0.14302073196999998,
            "placeType": "StopPoint"
           },
           "arrivalTime": "2022-01-14T05:59:00",
           "departurePoint": {
            "$type": "Tfl.Api.Presentation.Entities.StopPoint, Tfl.Api.Presentation.Entities",
            "additionalProperties": [],
            "commonName": "WC2N 4BF",
            "icsCode": "99999997",
            "lat": 51.50978057722,
            "lon": -0.12713676373000002,
            "placeType": "StopPoint",
            "platformName": ""
           },
           "departureTime": "2022-01-14T05:36:00",
           "disruptions": [],
           "distance": 1537,
           "duration": 23,
           "hasFixedLocations": false,
           "instruction": {
            "$type": "Tfl.Api.Presentation.Entities.Instruction, Tfl.Api.Presentation.Entities",
            "detailed": "Walk to W1C 1DH",
            "steps": [
             {
              "$type": "Tfl.Api.Presentation.Entities.InstructionStep, Tfl.Api.Presentation.Entities",
              "cumulativeDistance": 35,
              "cumulativeTravelTime": 31,
              "description": "St Martin's Lane for 35 metres",
              "descriptionHeading": "Continue along ",
              "distance": 35,
              "latitude": 51.509786114090005,
              "longitude": -0.12692037214000002,
              "pathAttribute": {
               "$type": "Tfl.Api.Presentation.Entities.PathAttribute, Tfl.Api.Presentation.Entities"
              },
              "skyDirection": 537,
              "skyDirectionDescription": "North",
              "streetName": "St Martin's Lane",
              "trackType": "None",
              "turnDirection": "STRAIGHT"
             },
             {
              "$type": "Tfl.Api.Presentation.Entities.InstructionStep, Tfl.Api.Presentation.Entities",
              "cumulativeDistance": 119,
              "cumulativeTravelTime": 106,
              "description": "on to St Martin's Place, continue for 84 metres",
              "descriptionHeading": "Turn right",
              "distance": 84,
              "latitude": 51.50947181166,
              "longitude": -0.12694767389,
              "pathAttribute": {
               "$type": "Tfl.Api.Presentation.Entities.PathAttribute, Tfl.Api.Presentation.Entities"
              },
              "skyDirection": 280,
              "skyDirectionDescription": "North",
              "streetName": "St Martin's Place",
              "trackType": "None",
              "turnDirection": "RIGHT"
             },
             {
              "$type": "Tfl.Api.Presentation.Entities.InstructionStep, Tfl.Api.Presentation.Entities",
              "cumulativeDistance": 239,
              "cumulativeTravelTime": 213,
              "description": "on to Irving Street, continue for 120 metres",
              "descriptionHeading": "Take a slight left",
              "distance": 120,
              "latitude": 51.50978561557,
              "longitude": -0.12801562611,
              "pathAttribute": {
               "$type": "Tfl.Api.Presentation.Entities.PathAttribute, Tfl.Api.Presentation.Entities"
              },
              "skyDirection": 282,
              "skyDirectionDescription": "North",
              "streetName": "Irving Street",
              "trackType": "None",
              "turnDirection": "SLIGHT_LEFT"
             },
             {
              "$type": "Tfl.Api.Presentation.Entities.InstructionStep, Tfl.Api.Presentation.Entities",
              "cumulativeDistance": 342,
              "cumulativeTravelTime": 307,
              "description": "for 103 metres",
              "descriptionHeading": "Continue along ",
              "distance": 103,
              "latitude": 51.51009039485,
              "longitude": -0.12964599387,
              "pathAttribute": {
               "$type": "Tfl.Api.Presentation.Entities.PathAttribute, Tfl.Api.Presentation.Entities"
              },
              "skyDirection": 306,
              "skyDirectionDescription": "North",
              "streetName": "",
              "trackType": "None",
              "turnDirection": "STRAIGHT"
             },
             {
              "$type": "Tfl.Api.Presentation.Entities.InstructionStep, Tfl.Api.Presentation.Entities",
              "cumulativeDistance": 607,
              "cumulativeTravelTime": 543,
              "description": "on to Coventry Street, continue for 265 metres",
              "descriptionHeading": "Take a slight left",
              "distance": 265,
              "latitude": 51.51056822962,
              "longitude": -0.1308513765,
              "pathAttribute": {
               "$type": "Tfl.Api.Presentation.Entities.PathAttribute, Tfl.Api.Presentation.Entities"
              },
              "skyDirection": 248,
              "skyDirectionDescription": "North",
              "streetName": "Coventry Street",
              "trackType": "None",
              "turnDirection": "SLIGHT_LEFT"
             },
             {
              "$type": "Tfl.Api.Presentation.Entities.InstructionStep, Tfl.Api.Presentation.Entities",
              "cumulativeDistance": 758,
              "cumulativeTravelTime": 679,
              "description": "on to Glasshouse Street, continue for 151 metres",
              "descriptionHeading": "Continue along ",
              "distance": 151,
              "latitude": 51.51011422956,
              "longitude": -0.13453036791999998,
              "pathAttribute": {
               "$type": "Tfl.Api.Presentation.Entities.PathAttribute, Tfl.Api.Presentation.Entities"
              },
              "skyDirection": 296,
              "skyDirectionDescription": "North",
              "streetName": "Glasshouse Street",
              "trackType": "None",
              "turnDirection": "STRAIGHT"
             },
             {
              "$type": "Tfl.Api.Presentation.Entities.InstructionStep, Tfl.Api.Presentation.Entities",
              "cumulativeDistance": 804,
              "cumulativeTravelTime": 721,
              "description": "on to Air Street, continue for 46 metres",
              "descriptionHeading": "Take a slight right",
              "distance": 46,
              "latitude": 51.51044398617,
              "longitude": -0.13660651602999999,
              "pathAttribute": {
               "$type": "Tfl.Api.Presentation.Entities.PathAttribute, Tfl.Api.Presentation.Entities"
              },
              "skyDirection": 337,
              "skyDirectionDescription": "North",
              "streetName": "Air Street",
              "trackType": "None",
              "turnDirection": "SLIGHT_RIGHT"
             },
             {
              "$type": "Tfl.Api.Presentation.Entities.InstructionStep, Tfl.Api.Presentation.Entities",
              "cumulativeDistance": 862,
              "cumulativeTravelTime": 772,
              "description": "on to Lower John Street, continue for 58 metres",
              "descriptionHeading": "Continue along ",
              "distance": 58,
              "latitude": 51.51082554547,
              "longitude": -0.13685034998999998,
              "pathAttribute": {
               "$type": "Tfl.Api.Presentation.Entities.PathAttribute, Tfl.Api.Presentation.Entities"
              },
              "skyDirection": 326,
              "skyDirectionDescription": "North",
              "streetName": "Lower John Street",
              "trackType": "None",
              "turnDirection": "STRAIGHT"
             },
             {
              "$type": "Tfl.Api.Presentation.Entities.InstructionStep, Tfl.Api.Presentation.Entities",
              "cumulativeDistance": 923,
              "cumulativeTravelTime": 827,
              "description": "on to Golden Square, continue for 61 metres",
              "descriptionHeading": "Continue along ",
              "distance": 61,
              "latitude": 51.51126422681,
              "longitude": -0.13729361753,
              "pathAttribute": {
               "$type": "Tfl.Api.Presentation.Entities.PathAttribute, Tfl.Api.Presentation.Entities"
              },
              "skyDirection": 323,
              "skyDirectionDescription": "North",
              "streetName": "Golden Square",
              "trackType": "None",
              "turnDirection": "STRAIGHT"
             },
             {
              "$type": "Tfl.Api.Presentation.Entities.InstructionStep, Tfl.Api.Presentation.Entities",
              "cumulativeDistance": 975,
              "cumulativeTravelTime": 875,
              "description": "on to Upper John Street, continue for 52 metres",
              "descriptionHeading": "Continue along ",
              "distance": 52,
              "latitude": 51.51171280792,
              "longitude": -0.13779413597999998,
              "pathAttribute": {
               "$type": "Tfl.Api.Presentation.Entities.PathAttribute, Tfl.Api.Presentation.Entities"
              },
              "skyDirection": 324,
              "skyDirectionDescription": "North",
              "streetName": "Upper John Street",
              "trackType": "None",
              "turnDirection": "STRAIGHT"
             },
             {
              "$type": "Tfl.Api.Presentation.Entities.InstructionStep, Tfl.Api.Presentation.Entities",
              "cumulativeDistance": 1039,
              "cumulativeTravelTime": 932,
              "description": "on to Kingly Court, continue for 64 metres",
              "descriptionHeading": "Continue along ",
              "distance": 64,
              "latitude": 51.51209733702,
              "longitude": -0.13822521705000002,
              "pathAttribute": {
               "$type": "Tfl.Api.Presentation.Entities.PathAttribute, Tfl.Api.Presentation.Entities"
              },
              "skyDirection": 323,
              "skyDirectionDescription": "North",
              "streetName": "Kingly Court",
              "trackType": "None",
              "turnDirection": "STRAIGHT"
             },
             {
              "$type": "Tfl.Api.Presentation.Entities.InstructionStep, Tfl.Api.Presentation.Entities",
              "cumulativeDistance": 1065,
              "cumulativeTravelTime": 955,
              "description": "on to Kingley Court, continue for 26 metres",
              "descriptionHeading": "Turn left",
              "distance": 26,
              "latitude": 51.512564344779996,
              "longitude": -0.1387538261,
              "pathAttribute": {
               "$type": "Tfl.Api.Presentation.Entities.PathAttribute, Tfl.Api.Presentation.Entities"
              },
              "skyDirection": 238,
              "skyDirectionDescription": "North",
              "streetName": "Kingley Court",
              "trackType": "None",
              "turnDirection": "LEFT"
             },
             {
              "$type": "Tfl.Api.Presentation.Entities.InstructionStep, Tfl.Api.Presentation.Entities",
              "cumulativeDistance": 1260,
              "cumulativeTravelTime": 1131,
              "description": "on to Kingly Street, continue for 195 metres",
              "descriptionHeading": "Turn right",
              "distance": 195,
              "latitude": 51.512443558760005,
              "longitude": -0.13907580851999998,
              "pathAttribute": {
               "$type": "Tfl.Api.Presentation.Entities.PathAttribute, Tfl.Api.Presentation.Entities"
              },
              "skyDirection": 321,
              "skyDirectionDescription": "North",
              "streetName": "Kingly Street",
              "trackType": "None",
              "turnDirection": "RIGHT"
             },
             {
              "$type": "Tfl.Api.Presentation.Entities.InstructionStep, Tfl.Api.Presentation.Entities",
              "cumulativeDistance": 1290,
              "cumulativeTravelTime": 1158,
              "description": "on to Great Marlborough Street, continue for 30 metres",
              "descriptionHeading": "Turn left",
              "distance": 30,
              "latitude": 51.51382011525,
              "longitude": -0.14082123599,
              "pathAttribute": {
               "$type": "Tfl.Api.Presentation.Entities.PathAttribute, Tfl.Api.Presentation.Entities"
              },
              "skyDirection": 243,
              "skyDirectionDescription": "North",
              "streetName": "Great Marlborough Street",
              "trackType": "None",
              "turnDirection": "LEFT"
             },
             {
              "$type": "Tfl.Api.Presentation.Entities.InstructionStep, Tfl.Api.Presentation.Entities",
              "cumulativeDistance": 1405,
              "cumulativeTravelTime": 1263,
              "description": "on to Regent Street, continue for 115 metres",
              "descriptionHeading": "Turn right",
              "distance": 115,
              "latitude": 51.51370046492,
              "longitude": -0.14121523645999998,
              "pathAttribute": {
               "$type": "Tfl.Api.Presentation.Entities.PathAttribute, Tfl.Api.Presentation.Entities"
              },
              "skyDirection": 330,
              "skyDirectionDescription": "North",
              "streetName": "Regent Street",
              "trackType": "None",
              "turnDirection": "RIGHT"
             },
             {
              "$type": "Tfl.Api.Presentation.Entities.InstructionStep, Tfl.Api.Presentation.Entities",
              "cumulativeDistance": 1437,
              "cumulativeTravelTime": 1292,
              "description": "on to Princes Street, continue for 32 metres",
              "descriptionHeading": "Turn left",
              "distance": 32,
              "latitude": 51.5146633259,
              "longitude": -0.1418246018,
              "pathAttribute": {
               "$type": "Tfl.Api.Presentation.Entities.PathAttribute, Tfl.Api.Presentation.Entities"
              },
              "skyDirection": 254,
              "skyDirectionDescription": "North",
              "streetName": "Princes Street",
              "trackType": "None",
              "turnDirection": "LEFT"
             },
             {
              "$type": "Tfl.Api.Presentation.Entities.InstructionStep, Tfl.Api.Presentation.Entities",
              "cumulativeDistance": 1496,
              "cumulativeTravelTime": 1345,
              "description": "on to Swallow Place, continue for 59 metres",
              "descriptionHeading": "Turn right",
              "distance": 59,
              "latitude": 51.51458951835,
              "longitude": -0.14227439158,
              "pathAttribute": {
               "$type": "Tfl.Api.Presentation.Entities.PathAttribute, Tfl.Api.Presentation.Entities"
              },
              "skyDirection": 342,
              "skyDirectionDescription": "North",
              "streetName": "Swallow Place",
              "trackType": "None",
              "turnDirection": "RIGHT"
             },
             {
              "$type": "Tfl.Api.Presentation.Entities.InstructionStep, Tfl.Api.Presentation.Entities",
              "cumulativeDistance": 1511,
              "cumulativeTravelTime": 1358,
              "description": "on to Swallow Passage, continue for 15 metres",
              "descriptionHeading": "Continue along ",
              "distance": 15,
              "latitude": 51.515096880269994,
              "longitude": -0.14251317629000002,
              "pathAttribute": {
               "$type": "Tfl.Api.Presentation.Entities.PathAttribute, Tfl.Api.Presentation.Entities"
              },
              "skyDirection": 337,
              "skyDirectionDescription": "North",
              "streetName": "Swallow Passage",
              "trackType": "None",
              "turnDirection": "STRAIGHT"
             },
             {
              "$type": "Tfl.Api.Presentation.Entities.InstructionStep, Tfl.Api.Presentation.Entities",
              "cumulativeDistance": 1540,
              "cumulativeTravelTime": 1384,
              "description": "on to John Princes Street, continue for 29 metres",
              "descriptionHeading": "Continue along ",
              "distance": 29,
              "latitude": 51.51522406282,
              "longitude": -0.14259447834,
              "pathAttribute": {
               "$type": "Tfl.Api.Presentation.Entities.PathAttribute, Tfl.Api.Presentation.Entities"
              },
              "skyDirection": 329,
              "skyDirectionDescription": "North",
              "streetName": "John Princes Street",
              "trackType": "None",
              "turnDirection": "STRAIGHT"
             }
            ],
            "summary": "Walk to W1C 1DH"
           },
           "isDisrupted": false,
           "mode": {
            "$type": "Tfl.Api.Presentation.Entities.Identifier, Tfl.Api.Presentation.Entities",
            "id": "walking",
            "name": "walking",
            "routeType": "Unknown",
            "status": "Unknown",
            "type": "Mode"
           },
           "obstacles": [],
           "path": {
            "$type": "Tfl.Api.Presentation.Entities.JourneyPlanner.Path, Tfl.Api.Presentation.Entities",
            "elevation": [],
            "lineString": "[[51.50978057722, -0.12713676373],[51.50978378265, -0.12692603809],[51.50971422097, -0.12692332081],[51.50947181166, -0.12694767389],[51.50954345666, -0.12749234934],[51.50970220715, -0.12786052472],[51.50978561557, -0.12801562611],[51.50984597095, -0.12841665968],[51.51000698855, -0.12949088842],[51.51009039485, -0.12964599387],[51.510267112, -0.13001344531],[51.51027839477, -0.13015709449],[51.51035973388, -0.13018258638],[51.51056822962, -0.1308513765],[51.51041656678, -0.13149167501],[51.5103105218, -0.13217333674],[51.51028562592, -0.13230405503],[51.51022038265, -0.13272464507],[51.5100961279, -0.13339263412],[51.51002395632, -0.13394320319],[51.51011422956, -0.13453036792],[51.51036002128, -0.13528411782],[51.51044398617, -0.13660651603],[51.51082554547, -0.13685034999],[51.51126422681, -0.13729361753],[51.51148402428, -0.13754405879],[51.51171280792, -0.13779413598],[51.51209733702, -0.13822521705],[51.51256434478, -0.1387538261],[51.51244355876, -0.13907580852],[51.51278292132, -0.1394943354],[51.51331557112, -0.14019323604],[51.5134074935, -0.14031920092],[51.51350840246, -0.14044480033],[51.51382011525, -0.14082123599],[51.51370046492, -0.14121523646],[51.51401057778, -0.14149085808],[51.5143829124, -0.14172071403],[51.5146633259, -0.1418246018],[51.51458951835, -0.14227439158],[51.51509688027, -0.14251317629],[51.51522406282, -0.14259447834],[51.51545061525, -0.14280121234],[51.51537469218, -0.14302073197]]",
            "stopPoints": []
           },
           "plannedWorks": [],
           "routeOptions": [
            {
             "$type": "Tfl.Api.Presentation.Entities.JourneyPlanner.RouteOption, Tfl.Api.Presentation.Entities",
             "directions": [
              ""
             ],
             "name": ""
            }
           ]
          }
         ],
         "startDateTime": "2022-01-14T05:36:00"
        }
       ],
       "lines": [
        {
         "$type": "Tfl.Api.Presentation.Entities.Line, Tfl.Api.Presentation.Entities",
         "created": "2022-01-11T13:17:05.74Z",
         "crowding": {
          "$type": "Tfl.Api.Presentation.Entities.Crowding, Tfl.Api.Presentation.Entities"
         },
         "disruptions": [],
         "id": "12",
         "lineStatuses": [
          {
           "$type": "Tfl.Api.Presentation.Entities.LineStatus, Tfl.Api.Presentation.Entities",
           "created": "0001-01-01T00:00:00",
           "id": 0,
           "statusSeverity": 10,
           "statusSeverityDescription": "Good Service",
           "validityPeriods": []
          }
         ],
         "modeName": "bus",
         "modified": "2022-01-11T13:17:05.74Z",
         "name": "12",
         "routeSections": [],
         "serviceTypes": [
          {
           "$type": "Tfl.Api.Presentation.Entities.LineServiceTypeInfo, Tfl.Api.Presentation.Entities",
           "name": "Regular",
           "uri": "/Line/Route?ids=12&serviceTypes=Regular"
          }
         ]
        },
        {
         "$type": "Tfl.Api.Presentation.Entities.Line, Tfl.Api.Presentation.Entities",
         "created": "2022-01-11T13:17:05.757Z",
         "crowding": {
          "$type": "Tfl.Api.Presentation.Entities.Crowding, Tfl.Api.Presentation.Entities"
         },
         "disruptions": [],
         "id": "453",
         "lineStatuses": [
          {
           "$type": "Tfl.Api.Presentation.Entities.LineStatus, Tfl.Api.Presentation.Entities",
           "created": "0001-01-01T00:00:00",
           "id": 0,
           "statusSeverity": 10,
           "statusSeverityDescription": "Good Service",
           "validityPeriods": []
          }
         ],
         "modeName": "bus",
         "modified": "2022-01-11T13:17:05.757Z",
         "name": "453",
         "routeSections": [],
         "serviceTypes": [
          {
           "$type": "Tfl.Api.Presentation.Entities.LineServiceTypeInfo, Tfl.Api.Presentation.Entities",
           "name": "Regular",
           "uri": "/Line/Route?ids=453&serviceTypes=Regular"
          }
         ]
        },
        {
         "$type": "Tfl.Api.Presentation.Entities.Line, Tfl.Api.Presentation.Entities",
         "created": "2022-01-11T13:17:05.74Z",
         "crowding": {
          "$type": "Tfl.Api.Presentation.Entities.Crowding, Tfl.Api.Presentation.Entities"
         },
         "disruptions": [],
         "id": "94",
         "lineStatuses": [
          {
           "$type": "Tfl.Api.Presentation.Entities.LineStatus, Tfl.Api.Presentation.Entities",
           "created": "0001-01-01T00:00:00",
           "id": 0,
           "statusSeverity": 10,
           "statusSeverityDescription": "Good Service",
           "validityPeriods": []
          }
         ],
         "modeName": "bus",
         "modified": "2022-01-11T13:17:05.74Z",
         "name": "94",
         "routeSections": [],
         "serviceTypes": [
          {
           "$type": "Tfl.Api.Presentation.Entities.LineServiceTypeInfo, Tfl.Api.Presentation.Entities",
           "name": "Regular",
           "uri": "/Line/Route?ids=94&serviceTypes=Regular"
          }
         ]
        },
        {
         "$type": "Tfl.Api.Presentation.Entities.Line, Tfl.Api.Presentation.Entities",
         "created": "2022-01-11T13:17:05.74Z",
         "crowding": {
          "$type": "Tfl.Api.Presentation.Entities.Crowding, Tfl.Api.Presentation.Entities"
         },
         "disruptions": [],
         "id": "n15",
         "lineStatuses": [
          {
           "$type": "Tfl.Api.Presentation.Entities.LineStatus, Tfl.Api.Presentation.Entities",
           "created": "0001-01-01T00:00:00",
           "id": 0,
           "statusSeverity": 10,
           "statusSeverityDescription": "Good Service",
           "validityPeriods": []
          }
         ],
         "modeName": "bus",
         "modified": "2022-01-11T13:17:05.74Z",
         "name": "N15",
         "routeSections": [],
         "serviceTypes": [
          {
           "$type": "Tfl.Api.Presentation.Entities.LineServiceTypeInfo, Tfl.Api.Presentation.Entities",
           "name": "Regular",
           "uri": "/Line/Route?ids=N15&serviceTypes=Regular"
          }
         ]
        },
        {
         "$type": "Tfl.Api.Presentation.Entities.Line, Tfl.Api.Presentation.Entities",
         "created": "2022-01-11T13:17:05.74Z",
         "crowding": {
          "$type": "Tfl.Api.Presentation.Entities.Crowding, Tfl.Api.Presentation.Entities"
         },
         "disruptions": [],
         "id": "n29",
         "lineStatuses": [
          {
           "$type": "Tfl.Api.Presentation.Entities.LineStatus, Tfl.Api.Presentation.Entities",
           "created": "0001-01-01T00:00:00",
           "disruption": {
            "$type": "Tfl.Api.Presentation.Entities.Disruption, Tfl.Api.Presentation.Entities",
            "affectedRoutes": [],
            "affectedStops": [],
            "category": "PlannedWork",
            "categoryDescription": "PlannedWork",
            "created": "2022-01-07T19:09:00Z",
            "description": "CHARING CROSS ROAD, W1: Routes 24 29 N5 N20 N29 and N279 are on diversion southbound only due to Thames Water works to repair a burst water main until Friday 14 January. Buses are diverted via New Oxford Street and Shaftesbury Avenue, missing stop Cambridge Circus (D)."
           },
           "id": 0,
           "lineId": "n29",
           "reason": "CHARING CROSS ROAD, W1: Routes 24 29 N5 N20 N29 and N279 are on diversion southbound only due to Thames Water works to repair a burst water main until Friday 14 January. Buses are diverted via New Oxford Street and Shaftesbury Avenue, missing stop Cambridge Circus (D).",
           "statusSeverity": 0,
           "statusSeverityDescription": "Special Service",
           "validityPeriods": [
            {
             "$type": "Tfl.Api.Presentation.Entities.ValidityPeriod, Tfl.Api.Presentation.Entities",
             "fromDate": "2022-01-07T19:05:00Z",
             "isNow": false,
             "toDate": "2022-01-14T18:00:00Z"
            }
           ]
          }
         ],
         "modeName": "bus",
         "modified": "2022-01-11T13:17:05.74Z",
         "name": "N29",
         "routeSections": [],
         "serviceTypes": [
          {
           "$type": "Tfl.Api.Presentation.Entities.LineServiceTypeInfo, Tfl.Api.Presentation.Entities",
           "name": "Regular",
           "uri": "/Line/Route?ids=N29&serviceTypes=Regular"
          }
         ]
        }
       ],
       "recommendedMaxAgeMinutes": 0,
       "searchCriteria": {
        "$type": "Tfl.Api.Presentation.Entities.JourneyPlanner.SearchCriteria, Tfl.Api.Presentation.Entities",
        "dateTime": "2022-01-14T05:36:00",
        "dateTimeType": "Departing",
        "timeAdjustments": {
         "$type": "Tfl.Api.Presentation.Entities.JourneyPlanner.TimeAdjustments, Tfl.Api.Presentation.Entities",
         "earlier": {
          "$type": "Tfl.Api.Presentation.Entities.JourneyPlanner.TimeAdjustment, Tfl.Api.Presentation.Entities",
          "date": "20220114",
          "time": "0532",
          "timeIs": "departing",
          "uri": "/journey/journeyresults/wc2n_4bf/to/w1c_1dh?app_key=09e7db574b42473e91fc6d50c49fb8aa&time=0532&date=20220114&timeIs=departing"
         },
         "earliest": {
          "$type": "Tfl.Api.Presentation.Entities.JourneyPlanner.TimeAdjustment, Tfl.Api.Presentation.Entities",
          "date": "20220114",
          "time": "0300",
          "timeIs": "departing",
          "uri": "/journey/journeyresults/wc2n_4bf/to/w1c_1dh?app_key=09e7db574b42473e91fc6d50c49fb8aa&time=0300&date=20220114&timeIs=departing"
         },
         "later": {
          "$type": "Tfl.Api.Presentation.Entities.JourneyPlanner.TimeAdjustment, Tfl.Api.Presentation.Entities",
          "date": "20220114",
          "time": "0540",
          "timeIs": "departing",
          "uri": "/journey/journeyresults/wc2n_4bf/to/w1c_1dh?app_key=09e7db574b42473e91fc6d50c49fb8aa&time=0540&date=20220114&timeIs=departing"
         },
         "latest": {
          "$type": "Tfl.Api.Presentation.Entities.JourneyPlanner.TimeAdjustment, Tfl.Api.Presentation.Entities",
          "date": "20220115",
          "time": "0300",
          "timeIs": "departing",
          "uri": "/journey/journeyresults/wc2n_4bf/to/w1c_1dh?app_key=09e7db574b42473e91fc6d50c49fb8aa&time=0300&date=20220115&timeIs=departing"
         }
        }
       },
       "stopMessages": []
      },
      "text/plain": [
       "<IPython.core.display.JSON object>"
      ]
     },
     "execution_count": 66,
     "metadata": {
      "application/json": {
       "expanded": false,
       "root": "root"
      }
     },
     "output_type": "execute_result"
    }
   ],
   "source": [
    "#Our fastest bus journey in terms of minutes\n",
    "print(fastest_bus)\n",
    "print(route_disrupted)\n",
    "print(station)\n",
    "JSON(journey_test)"
   ]
  },
  {
   "cell_type": "code",
   "execution_count": null,
   "id": "37672873-fb71-4ea8-8b7b-78155eb44461",
   "metadata": {},
   "outputs": [],
   "source": []
  },
  {
   "cell_type": "markdown",
   "id": "7238e35c-4318-4546-965e-e4f097526764",
   "metadata": {},
   "source": [
    "### Crowding"
   ]
  },
  {
   "cell_type": "code",
   "execution_count": 11,
   "id": "00f9edce-8a8e-4b59-89a5-0e6d4e54efa0",
   "metadata": {},
   "outputs": [],
   "source": [
    "def crowding_results(station):\n",
    "    \n",
    "    endpoint = 'crowding/' + station + '/Live'\n",
    "    crowding_temp = TFL_API(endpoint)\n",
    "    \n",
    "    return (crowding_temp['percentageOfBaseline'] * 100)"
   ]
  },
  {
   "cell_type": "code",
   "execution_count": 28,
   "id": "96c98ea9-da2b-456f-b370-ba5c8a732e01",
   "metadata": {},
   "outputs": [],
   "source": [
    "crowding_percent = crowding_results('490G00128B')"
   ]
  },
  {
   "cell_type": "code",
   "execution_count": 29,
   "id": "c0208950-3e91-4d4d-a71a-3d9f418792b7",
   "metadata": {},
   "outputs": [
    {
     "name": "stdout",
     "output_type": "stream",
     "text": [
      "0\n"
     ]
    }
   ],
   "source": [
    "print(crowding_percent)"
   ]
  },
  {
   "cell_type": "markdown",
   "id": "e181e929-1046-4dfe-8c26-16de9884e062",
   "metadata": {},
   "source": [
    "### Bringing it together"
   ]
  },
  {
   "cell_type": "code",
   "execution_count": 71,
   "id": "69ddc917-512c-468c-96a7-73d0a839cbff",
   "metadata": {},
   "outputs": [],
   "source": [
    "def recommend_transport(start, stop, mode = 'tube'):\n",
    "    \n",
    "    #create base return string\n",
    "    car_recommend = \"Take a car, the\"\n",
    "    \n",
    "    #load up the inputs\n",
    "    air_quality = TFL_API('AirQuality')['currentForecast'][0]['forecastBand']\n",
    "    station, fastest_route, route_disrupted = journey_status(start, stop, mode)    \n",
    "    \n",
    "    try:\n",
    "        #based on the station of fastest_route\n",
    "        depart_station_crowd = crowding_results(station)\n",
    "    except:\n",
    "        print(\"Live crowding data not viable\")\n",
    "        depart_station_crowd = 0\n",
    "    \n",
    "    print(f\"The fastest route taking the {mode} is {fastest_route} minutes\")\n",
    "    \n",
    "    if depart_station_crowd == 0:\n",
    "        print(\"No live crowding data available\")\n",
    "        \n",
    "    #If everything is within parameters, recommend transport\n",
    "    if (air_quality != 'Low') and (fastest_route < 100) and (route_disrupted == False) and (depart_station_crowd <= 10.0):\n",
    "        return f\"Take the {mode}.\"\n",
    "    \n",
    "    #series of elif to return why to take the car, keep in mind order dictates priority\n",
    "    elif fastest_route > 100:\n",
    "        return f\"{car_recommend}, {mode} will take too long\"\n",
    "    \n",
    "    elif depart_station_crowd >= 10.0:\n",
    "        return f\"{car_recommend} departing station is too crowded.\"\n",
    "    \n",
    "    elif route_disrupted == True:\n",
    "        return f\"{car_recommend} {mode} is disrupted\"\n",
    "    \n",
    "    \n",
    "    elif air_quality == 'Low':\n",
    "        return f\"{car_recommend} air quality is bad.\"\n",
    "    "
   ]
  },
  {
   "cell_type": "code",
   "execution_count": 73,
   "id": "9e75e7c2-2711-4aae-8253-c5a5be7190a6",
   "metadata": {},
   "outputs": [
    {
     "name": "stdout",
     "output_type": "stream",
     "text": [
      "The fastest route taking the walking is 23 minutes\n",
      "No live crowding data available\n"
     ]
    },
    {
     "data": {
      "text/plain": [
       "'Take the walking.'"
      ]
     },
     "execution_count": 73,
     "metadata": {},
     "output_type": "execute_result"
    }
   ],
   "source": [
    "recommend_transport('WC2N_4BF', 'W1C_1DH', 'walking')"
   ]
  },
  {
   "cell_type": "code",
   "execution_count": null,
   "id": "f17c75f7-804e-4989-b08a-fe54d4fdd771",
   "metadata": {},
   "outputs": [],
   "source": [
    "#valid mode inputs\n",
    "mode = ['bus', 'tube', 'cycle']"
   ]
  },
  {
   "cell_type": "markdown",
   "id": "43d7c78c-8aea-4aab-8849-28dfe4b1b41f",
   "metadata": {},
   "source": [
    "### Tests"
   ]
  },
  {
   "cell_type": "code",
   "execution_count": null,
   "id": "9f174597-194e-41ec-870b-4263ad26f3c3",
   "metadata": {},
   "outputs": [],
   "source": [
    "#test_results = TFL_API('crowding/940GZZLUCHX/Live')"
   ]
  },
  {
   "cell_type": "code",
   "execution_count": null,
   "id": "c20cd2b0-11c0-465e-87b4-bd128f5fc51e",
   "metadata": {},
   "outputs": [],
   "source": [
    "#JSON(test_results)"
   ]
  }
 ],
 "metadata": {
  "kernelspec": {
   "display_name": "Python 3 (ipykernel)",
   "language": "python",
   "name": "python3"
  },
  "language_info": {
   "codemirror_mode": {
    "name": "ipython",
    "version": 3
   },
   "file_extension": ".py",
   "mimetype": "text/x-python",
   "name": "python",
   "nbconvert_exporter": "python",
   "pygments_lexer": "ipython3",
   "version": "3.9.7"
  }
 },
 "nbformat": 4,
 "nbformat_minor": 5
}
